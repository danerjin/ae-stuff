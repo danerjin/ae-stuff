{
 "cells": [
  {
   "cell_type": "markdown",
   "metadata": {},
   "source": [
    "# Understanding CIFAR Data\n",
    "\n",
    "\n",
    "\n",
    "Now that you understand how two different kinds of networks work for the MNIST dataset, you are going to prepare data for a more general image recognition problem. A lot of the same principles of neural networks apply, but this network is going to be a lot more complicated and robust.\n",
    "\n",
    "For a more general image recognition challenge, you will need a more general dataset. Luckily, there is a dataset called CIFAR that has labeled images for ten different things. Just like the MNIST data, you are going to prepare it to be fed into a network.\n",
    "\n",
    "In this dataset there are 50000 training images and 10000 test images. Each image is 32 x 32 pixels. There are 10 possible output classes. Since these pictures are in color, there are three color channels, one for red, green, and blue.\n",
    "\n",
    "## Preparing the Data\n",
    "\n",
    "\n",
    "This process is very similar to that of the MNIST dataset. See if you can remember what code to add for each step, and click the accordion if you need help. \n",
    "\n",
    "1. Run this cell to import the helper functions and needed libraries."
   ]
  },
  {
   "cell_type": "code",
   "execution_count": 1,
   "metadata": {},
   "outputs": [],
   "source": [
    "import tensorflow as tf\n",
    "from tensorflow import keras\n",
    "from tensorflow.keras.datasets import cifar10\n",
    "from tensorflow.keras import backend as K\n",
    "import numpy as np\n",
    "import matplotlib.pyplot as plt\n",
    "%matplotlib inline\n",
    "\n",
    "# Helper functions\n",
    "def show_min_max(array, i):\n",
    "  random_image = array[i]\n",
    "  print(\"min and max value in image: \", random_image.min(), random_image.max())\n",
    "\n",
    "\n",
    "def plot_image(array, i, labels):\n",
    "  plt.imshow(np.squeeze(array[i]))\n",
    "  plt.title(str(label_names[labels[i]]))\n",
    "  plt.xticks([])\n",
    "  plt.yticks([])\n",
    "  plt.show()\n"
   ]
  },
  {
   "cell_type": "markdown",
   "metadata": {},
   "source": [
    "2. Add some variables to keep track of image size.  \n",
    "\n",
    "\n",
    "<details><summary> Click for final code</summary>\n",
    "\n",
    "```\n",
    "img_rows = 32\n",
    "img_cols = 32  \n",
    "\n",
    "```\n",
    "   </details>"
   ]
  },
  {
   "cell_type": "code",
   "execution_count": 2,
   "metadata": {},
   "outputs": [],
   "source": [
    "img_rows = 32\n",
    "img_cols = 32"
   ]
  },
  {
   "cell_type": "markdown",
   "metadata": {},
   "source": [
    "3. Add a variable to keep track of the number of output classes. \n",
    "\n",
    "\n",
    "<details><summary> Click for final code</summary>\n",
    "\n",
    "```\n",
    "num_classes = 10 \n",
    "\n",
    "```\n",
    "   </details>"
   ]
  },
  {
   "cell_type": "code",
   "execution_count": 3,
   "metadata": {},
   "outputs": [],
   "source": [
    "num_classes=10"
   ]
  },
  {
   "cell_type": "markdown",
   "metadata": {},
   "source": [
    "4. Add a variable to keep track of the input shape. \n",
    "\n",
    "\n",
    "<details><summary> Click for final code</summary>\n",
    "\n",
    "```\n",
    "input_shape = (img_rows, img_cols, 3)\n",
    "```\n",
    "   </details>"
   ]
  },
  {
   "cell_type": "code",
   "execution_count": 4,
   "metadata": {},
   "outputs": [],
   "source": [
    "input_shape = (img_rows,img_cols,3)"
   ]
  },
  {
   "cell_type": "markdown",
   "metadata": {},
   "source": [
    "5. Load the data into your program. \n",
    "\n",
    "\n",
    "<details><summary> Click for final code</summary>\n",
    "\n",
    "```\n",
    "(train_images, train_labels), (test_images, test_labels) = cifar10.load_data() \n",
    "```\n",
    "   </details>"
   ]
  },
  {
   "cell_type": "code",
   "execution_count": 5,
   "metadata": {},
   "outputs": [
    {
     "name": "stdout",
     "output_type": "stream",
     "text": [
      "Downloading data from https://www.cs.toronto.edu/~kriz/cifar-10-python.tar.gz\n",
      "170498071/170498071 [==============================] - 121s 1us/step\n"
     ]
    }
   ],
   "source": [
    "(train_images, train_labels), (test_images, test_labels) = cifar10.load_data() "
   ]
  },
  {
   "cell_type": "markdown",
   "metadata": {},
   "source": [
    "6. Load a backup copy of the data.  \n",
    "\n",
    "\n",
    "<details><summary> Click for final code</summary>\n",
    "\n",
    "```\n",
    "(train_images_backup, train_labels_backup), (test_images_backup, test_labels_backup) = cifar10.load_data() \n",
    "```\n",
    "   </details>"
   ]
  },
  {
   "cell_type": "code",
   "execution_count": 6,
   "metadata": {},
   "outputs": [],
   "source": [
    "(train_images_backup, train_labels_backup), (test_images_backup, test_labels_backup) = cifar10.load_data() "
   ]
  },
  {
   "cell_type": "markdown",
   "metadata": {},
   "source": [
    "7. Add the code to set up an array for labels. You can look up the information [here](https://www.cs.toronto.edu/~kriz/cifar.html), or use the dropdown menu.\n",
    "\n",
    "\n",
    "<details><summary> Click for final code</summary>\n",
    "\n",
    "```\n",
    " label_names=['airplane', 'automobile', 'bird', 'cat', 'deer', 'dog', 'frog', 'horse', 'ship', 'truck'] \n",
    "```\n",
    "   </details>"
   ]
  },
  {
   "cell_type": "code",
   "execution_count": 7,
   "metadata": {},
   "outputs": [],
   "source": [
    " label_names=['airplane', 'automobile', 'bird', 'cat', 'deer', 'dog', 'frog', 'horse', 'ship', 'truck'] "
   ]
  },
  {
   "cell_type": "markdown",
   "metadata": {},
   "source": [
    "8. Add this code to convert the label arrays.\n",
    "\n",
    "```\n",
    " train_labels_backup = [item for sublist in train_labels_backup for item in sublist] \n",
    " test_labels_backup = [item for sublist in test_labels_backup for item in sublist] \n",
    "\n",
    "```"
   ]
  },
  {
   "cell_type": "code",
   "execution_count": 8,
   "metadata": {},
   "outputs": [],
   "source": [
    "train_labels_backup = [item for sublist in train_labels_backup for item in sublist] \n",
    "test_labels_backup = [item for sublist in test_labels_backup for item in sublist] "
   ]
  },
  {
   "cell_type": "markdown",
   "metadata": {},
   "source": [
    "9. Print the shape of the test and train images to make sure you have the correct data. \n",
    "\n",
    "\n",
    "\n",
    "<details><summary> Click for final code</summary>\n",
    "\n",
    "```\n",
    "print(train_images.shape) \n",
    "print(test_images.shape) \n",
    "```\n",
    "</details>"
   ]
  },
  {
   "cell_type": "code",
   "execution_count": 9,
   "metadata": {},
   "outputs": [
    {
     "name": "stdout",
     "output_type": "stream",
     "text": [
      "(10000, 32, 32, 3) (50000, 32, 32, 3)\n"
     ]
    }
   ],
   "source": [
    "print(test_images.shape,train_images.shape)"
   ]
  },
  {
   "cell_type": "markdown",
   "metadata": {},
   "source": [
    "10. Use the helper functions to print out the 100th image to ensure the data has loaded correctly.\n",
    "\n",
    "\n",
    "\n",
    "<details><summary> Click for final code</summary>\n",
    "\n",
    "```\n",
    "plot_image(train_images, 100, train_labels_backup)\n",
    "```\n",
    "</details>"
   ]
  },
  {
   "cell_type": "code",
   "execution_count": 10,
   "metadata": {},
   "outputs": [
    {
     "data": {
      "image/png": "[encoded data removed]",
      "text/plain": [
       "<Figure size 640x480 with 1 Axes>"
      ]
     },
     "metadata": {},
     "output_type": "display_data"
    }
   ],
   "source": [
    "plot_image(train_images, 100, train_labels_backup)"
   ]
  },
  {
   "cell_type": "markdown",
   "metadata": {},
   "source": [
    "11. Show the min and max values of the 100th image before you normalize the data.\n",
    "\n",
    "\n",
    "\n",
    "<details><summary> Click for final code</summary>\n",
    "\n",
    "```\n",
    "show_min_max(train_images, 100)\n",
    "```\n",
    "</details>"
   ]
  },
  {
   "cell_type": "code",
   "execution_count": 11,
   "metadata": {},
   "outputs": [
    {
     "name": "stdout",
     "output_type": "stream",
     "text": [
      "min and max value in image:  30 242\n"
     ]
    }
   ],
   "source": [
    "show_min_max(train_images,100)"
   ]
  },
  {
   "cell_type": "markdown",
   "metadata": {},
   "source": [
    "12. Convert the images to the float32 data type.\n",
    "\n",
    "\n",
    "<details><summary> Click for final code</summary>\n",
    "\n",
    "```\n",
    "train_images = train_images.astype('float32')\n",
    "test_images = test_images.astype('float32')\n",
    "```\n",
    "</details>"
   ]
  },
  {
   "cell_type": "code",
   "execution_count": 12,
   "metadata": {},
   "outputs": [],
   "source": [
    "train_images = train_images.astype('float32')\n",
    "test_images = test_images.astype('float32')"
   ]
  },
  {
   "cell_type": "markdown",
   "metadata": {},
   "source": [
    "13. Normalize the data into values between 0 and 1.\n",
    "\n",
    "\n",
    "<details><summary> Click for final code</summary>\n",
    "\n",
    "```\n",
    "plot_image(train_images, 100, train_labels_backup)\n",
    "show_min_max(train_images, 100)\n",
    "```\n",
    "</details>"
   ]
  },
  {
   "cell_type": "code",
   "execution_count": 13,
   "metadata": {},
   "outputs": [],
   "source": [
    "train_images /= 255\n",
    "test_images /= 255"
   ]
  },
  {
   "cell_type": "markdown",
   "metadata": {},
   "source": [
    "14. Show the 100th image, and min and max values again to ensure that data preparation has worked correctly.\n",
    "\n",
    "\n",
    "<details><summary> Click for final code</summary>\n",
    "\n",
    "```\n",
    "train_images /= 255\n",
    "test_images /= 255\n",
    "```\n",
    "</details>"
   ]
  },
  {
   "cell_type": "code",
   "execution_count": null,
   "metadata": {},
   "outputs": [],
   "source": []
  },
  {
   "cell_type": "markdown",
   "metadata": {},
   "source": [
    "15. Convert the labels using one-hot encoding. \n",
    "\n",
    "\n",
    "<details><summary> Click for final code</summary>\n",
    "\n",
    "```\n",
    "train_labels = keras.utils.to_categorical(train_labels, num_classes)\n",
    "test_labels = keras.utils.to_categorical(test_labels, num_classes)\n",
    "```\n",
    "</details>"
   ]
  },
  {
   "cell_type": "code",
   "execution_count": 14,
   "metadata": {},
   "outputs": [],
   "source": [
    "train_labels = keras.utils.to_categorical(train_labels, num_classes)\n",
    "test_labels = keras.utils.to_categorical(test_labels, num_classes)"
   ]
  },
  {
   "cell_type": "markdown",
   "metadata": {},
   "source": [
    "# Building a Network for CIFAR\n",
    "\n",
    "Now that you have your data prepared it is ready to feed into a network. Since this data is so complicated, it makes sense to use another convolutional network. This kind of network will be slightly less computationally needy and will be able to draw conclusions about the data.  \n",
    "\n",
    "Since you already understand most of the concepts for a convolutional network, this network will allow you to see how those apply to a larger, more general dataset. This network is going to be much more robust and therefore take more time and computing power to train. \n",
    "\n",
    "1. Run the cell below to import the needed libraries"
   ]
  },
  {
   "cell_type": "code",
   "execution_count": 15,
   "metadata": {},
   "outputs": [],
   "source": [
    "from tensorflow.keras.models import Sequential \n",
    "from tensorflow.keras.layers import Dense, Dropout, Flatten, Conv2D, MaxPooling2D, BatchNormalization "
   ]
  },
  {
   "cell_type": "markdown",
   "metadata": {},
   "source": [
    "2. Decide on the number of epochs, batch size, and set the model type. Just like before, you can adjust these as you test your network.\n",
    "\n",
    "<details><summary> Click for final code</summary>\n",
    "\n",
    "```\n",
    "epochs = 15 \n",
    "batch_size = 64\n",
    "model = Sequential() \n",
    "```\n",
    "</details>"
   ]
  },
  {
   "cell_type": "code",
   "execution_count": 16,
   "metadata": {},
   "outputs": [],
   "source": [
    "epochs = 20\n",
    "batch_size = 32\n",
    "model =  Sequential()"
   ]
  },
  {
   "cell_type": "markdown",
   "metadata": {},
   "source": [
    "### Adding Convolutional Layers\n",
    "\n",
    "Now that the model is set up, it's time to start adding layers to your network. The last convolutional network you made had one round of convolutional layers followed by a pooling layer, and then some layers to wrap up the network and output a decision.\n",
    "\n",
    "This network is going to need more rounds of layers to figure out information about the pictures. As the layers at first start to decipher what is in the image, the network will start to understand what parts of the image it needs to focus on to understand what it is. This is what makes convolutional neural networks so effective for image recognition. \n",
    "\n",
    "Follow these steps to start to build out the layers of this network. \n",
    "\n",
    "1. To start add a convolutional layer with 32, 3x3 pixel filters.\n",
    "2. Add another one, this time with 64, 3x3 pixel filters. \n",
    "3. Add a pooling layer with a pool size of 2x2 to condense the information the network has learned so far.\n",
    "4. Add a dropout layer with a rate of 0.2 so the network doesn't get too dependent on any specific neurons.\n",
    "\n",
    "<details><summary> Click for final code</summary>\n",
    "\n",
    "```\n",
    "model.add(Conv2D(filters=32, kernel_size=(3, 3), activation='relu', input_shape=input_shape))\n",
    "model.add(Conv2D(filters=64, kernel_size=(3, 3), activation='relu'))\n",
    "model.add(MaxPooling2D(pool_size=(2, 2)))\n",
    "model.add(Dropout(rate=0.2))\n",
    "```\n",
    "</details>"
   ]
  },
  {
   "cell_type": "code",
   "execution_count": 17,
   "metadata": {},
   "outputs": [],
   "source": [
    "model.add(Conv2D(filters=32, kernel_size=(3, 3), activation='relu', input_shape=input_shape))\n",
    "model.add(Conv2D(filters=64, kernel_size=(3, 3), activation='relu'))\n",
    "model.add(MaxPooling2D(pool_size=(2, 2)))\n",
    "model.add(Dropout(rate=0.2))"
   ]
  },
  {
   "cell_type": "markdown",
   "metadata": {},
   "source": [
    "### Batch Normalization \n",
    "\n",
    "Batch normalization is a process that helps standardize the data in between layers. In a more complicated neural network, as each layer reshapes the data it can quickly become extremely complicated, and the network can lose sight of what the goal is. Batch normalization helps to keep each layer on the right track and working towards the desired goal. \n",
    "\n",
    "1. Add a `BatchNormalization()` layer to your model. \n",
    "\n",
    "<details><summary> Click for final code</summary>\n",
    "\n",
    "```\n",
    " model.add(BatchNormalization()) \n",
    "```\n",
    "</details>\n"
   ]
  },
  {
   "cell_type": "code",
   "execution_count": 18,
   "metadata": {},
   "outputs": [],
   "source": [
    "model.add(BatchNormalization())"
   ]
  },
  {
   "cell_type": "markdown",
   "metadata": {},
   "source": [
    "That rounds off the first stage of this network. You have added convolutional layers with filters to help learn about the image, a pooling layer to condense and organize the information that the network has learned, a dropout layer to prevent overfitting, and a batch normalization layer to help keep all the data normalized. Now it's time to add another set of layers."
   ]
  },
  {
   "cell_type": "markdown",
   "metadata": {},
   "source": [
    "### Adding More Layers\n",
    "\n",
    "Because this data is so complicated, you are going to add two more rounds of convolutional layers, pooling layers, dropout layers, and batch normalization. This will help the network to do what it needs to do.\n",
    "\n",
    "\n",
    "1. Add a convolutional layer with: \n",
    "    * filters: 64\n",
    "    * kernel size: (3, 3)\n",
    "    * activation: relu\n",
    "2. Add a max pooling layer with \n",
    "    * pool size: (1, 1)\n",
    "3. Add a dropout layer\n",
    "    * rate: 0.3\n",
    "4. Add a batch normalization layer\n",
    "\n",
    "<details><summary> Click for final code</summary>\n",
    "\n",
    "```\n",
    "model.add(Conv2D(filters=64, kernel_size=(3, 3), activation='relu'))\n",
    "model.add(MaxPooling2D(pool_size=(1, 1)))\n",
    "model.add(Dropout(rate=0.3)) \n",
    "model.add(BatchNormalization())\n",
    "```\n",
    "</details>\n",
    "\n"
   ]
  },
  {
   "cell_type": "code",
   "execution_count": 19,
   "metadata": {},
   "outputs": [],
   "source": [
    "model.add(Conv2D(filters=64, kernel_size=(3, 3), activation='relu'))\n",
    "model.add(MaxPooling2D(pool_size=(1, 1)))\n",
    "model.add(Dropout(rate=0.3)) \n",
    "model.add(BatchNormalization())"
   ]
  },
  {
   "cell_type": "markdown",
   "metadata": {},
   "source": [
    "### The Final Stage of Layers\n",
    "\n",
    "Add another set of layers. This one will need two layers with a lot of filters to help extract more information from the image.\n",
    "\n",
    "Below the previous layers, follow the steps to add the last set of layers. \n",
    "\n",
    "1. Add a convolutional layer with: \n",
    "    * filters: 128\n",
    "    * kernel size: (3, 3)\n",
    "    * activation: relu\n",
    "2. Add another convolutional layer with: \n",
    "    * filters: 64\n",
    "    * kernel size: (3, 3)\n",
    "    * activation: relu\n",
    "3. Add a max pooling layer with a smaller pool size:\n",
    "    * pool size: (1, 1)\n",
    "4. Add a dropout layer with:\n",
    "    * rate: 0.3\n",
    "5. Add a batch normalization layer.\n",
    "\n",
    "\n",
    "<details><summary> Click for final code</summary>\n",
    "\n",
    "```\n",
    "model.add(Conv2D(filters=128, kernel_size=(3, 3), activation='relu'))\n",
    "model.add(Conv2D(filters=64, kernel_size=(3, 3), activation='relu'))\n",
    "model.add(MaxPooling2D(pool_size=(1, 1)))\n",
    "model.add(Dropout(rate=0.3)) \n",
    "model.add(BatchNormalization())\n",
    "```\n",
    "</details>\n"
   ]
  },
  {
   "cell_type": "code",
   "execution_count": 20,
   "metadata": {},
   "outputs": [],
   "source": [
    "model.add(Conv2D(filters=128, kernel_size=(3, 3), activation='relu'))\n",
    "model.add(Conv2D(filters=64, kernel_size=(3, 3), activation='relu'))\n",
    "model.add(MaxPooling2D(pool_size=(1, 1)))\n",
    "model.add(Dropout(rate=0.3)) \n",
    "model.add(BatchNormalization())"
   ]
  },
  {
   "cell_type": "markdown",
   "metadata": {},
   "source": [
    "### The Output Layers\n",
    "\n",
    "Now it's time to prepare the data for the output. You will need to add some layers to organize the information that the network has and reshape it into the decision layer.\n",
    "\n",
    "1. Add a flatten layer to start to prepare the network to produce output.\n",
    "2. Add a Dense layer. \n",
    "    * units: 128\n",
    "    * activation: relu\n",
    "3. And another Dense layer for the output.\n",
    "    * units: num_classes\n",
    "    * activation: softmax\n",
    "\n",
    "<details><summary> Click for final code</summary>\n",
    "\n",
    "```\n",
    "model.add(Flatten())\n",
    "model.add(Dense(units=128, activation='relu'))\n",
    "model.add(Dense(units=num_classes,activation='softmax'))\n",
    "```\n",
    "</details>"
   ]
  },
  {
   "cell_type": "code",
   "execution_count": 21,
   "metadata": {},
   "outputs": [],
   "source": [
    "model.add(Flatten())\n",
    "model.add(Dense(units=128, activation='relu'))\n",
    "model.add(Dense(units=num_classes,activation='softmax'))"
   ]
  },
  {
   "cell_type": "markdown",
   "metadata": {},
   "source": [
    "4. Run the next cell to print a summary."
   ]
  },
  {
   "cell_type": "code",
   "execution_count": 22,
   "metadata": {},
   "outputs": [
    {
     "name": "stdout",
     "output_type": "stream",
     "text": [
      "Model: \"sequential\"\n",
      "_________________________________________________________________\n",
      " Layer (type)                Output Shape              Param #   \n",
      "=================================================================\n",
      " conv2d (Conv2D)             (None, 30, 30, 32)        896       \n",
      "                                                                 \n",
      " conv2d_1 (Conv2D)           (None, 28, 28, 64)        18496     \n",
      "                                                                 \n",
      " max_pooling2d (MaxPooling2  (None, 14, 14, 64)        0         \n",
      " D)                                                              \n",
      "                                                                 \n",
      " dropout (Dropout)           (None, 14, 14, 64)        0         \n",
      "                                                                 \n",
      " batch_normalization (Batch  (None, 14, 14, 64)        256       \n",
      " Normalization)                                                  \n",
      "                                                                 \n",
      " conv2d_2 (Conv2D)           (None, 12, 12, 64)        36928     \n",
      "                                                                 \n",
      " max_pooling2d_1 (MaxPoolin  (None, 12, 12, 64)        0         \n",
      " g2D)                                                            \n",
      "                                                                 \n",
      " dropout_1 (Dropout)         (None, 12, 12, 64)        0         \n",
      "                                                                 \n",
      " batch_normalization_1 (Bat  (None, 12, 12, 64)        256       \n",
      " chNormalization)                                                \n",
      "                                                                 \n",
      " conv2d_3 (Conv2D)           (None, 10, 10, 128)       73856     \n",
      "                                                                 \n",
      " conv2d_4 (Conv2D)           (None, 8, 8, 64)          73792     \n",
      "                                                                 \n",
      " max_pooling2d_2 (MaxPoolin  (None, 8, 8, 64)          0         \n",
      " g2D)                                                            \n",
      "                                                                 \n",
      " dropout_2 (Dropout)         (None, 8, 8, 64)          0         \n",
      "                                                                 \n",
      " batch_normalization_2 (Bat  (None, 8, 8, 64)          256       \n",
      " chNormalization)                                                \n",
      "                                                                 \n",
      " flatten (Flatten)           (None, 4096)              0         \n",
      "                                                                 \n",
      " dense (Dense)               (None, 128)               524416    \n",
      "                                                                 \n",
      " dense_1 (Dense)             (None, 10)                1290      \n",
      "                                                                 \n",
      "=================================================================\n",
      "Total params: 730442 (2.79 MB)\n",
      "Trainable params: 730058 (2.78 MB)\n",
      "Non-trainable params: 384 (1.50 KB)\n",
      "_________________________________________________________________\n"
     ]
    }
   ],
   "source": [
    "model.summary()"
   ]
  },
  {
   "cell_type": "markdown",
   "metadata": {},
   "source": [
    "## Compiling and Training the Model\n",
    "\n",
    "Now that you have the network, you can compile and train it. Just like with all the other networks, you can use Keras's built-in functions to do this. First, you will compile the model and decide on a loss function, optimizer, and metrics. Then, you will use the fit function to train the model using the data. Finally, evaluate the model using the evaluate function. \n",
    "\n",
    "1. First, compile the network. \n",
    "    * loss: keras.losses.categorical_crossentropy\n",
    "    * optimizer: 'adam'\n",
    "    * metrics: ['accuracy']\n",
    "    \n",
    "2. Call the fit function to start the training. \n",
    "3. Save the scores. \n",
    "4. Print the accuracy. \n",
    "\n",
    "<details><summary> Click for final code</summary>\n",
    "\n",
    "```\n",
    "model.compile(loss=keras.losses.categorical_crossentropy, optimizer='adam', metrics=['accuracy']) \n",
    "model.fit(train_images, train_labels, batch_size=batch_size, epochs=epochs, validation_data=(test_images, test_labels), shuffle=True) \n",
    "scores = model.evaluate(test_images, test_labels,verbose=0) \n",
    "print('Test accuracy:', scores[1]) \n",
    "```\n",
    "</details>"
   ]
  },
  {
   "cell_type": "code",
   "execution_count": 23,
   "metadata": {},
   "outputs": [
    {
     "name": "stdout",
     "output_type": "stream",
     "text": [
      "Epoch 1/20\n",
      "1563/1563 [==============================] - 51s 32ms/step - loss: 1.5079 - accuracy: 0.4668 - val_loss: 1.3235 - val_accuracy: 0.5299\n",
      "Epoch 2/20\n",
      "1563/1563 [==============================] - 50s 32ms/step - loss: 1.0604 - accuracy: 0.6240 - val_loss: 1.0857 - val_accuracy: 0.6171\n",
      "Epoch 3/20\n",
      "1563/1563 [==============================] - 50s 32ms/step - loss: 0.8907 - accuracy: 0.6854 - val_loss: 0.9139 - val_accuracy: 0.6824\n",
      "Epoch 4/20\n",
      "1563/1563 [==============================] - 49s 31ms/step - loss: 0.8001 - accuracy: 0.7172 - val_loss: 0.9133 - val_accuracy: 0.6826\n",
      "Epoch 5/20\n",
      "1563/1563 [==============================] - 48s 31ms/step - loss: 0.7379 - accuracy: 0.7405 - val_loss: 0.9157 - val_accuracy: 0.7067\n",
      "Epoch 6/20\n",
      "1563/1563 [==============================] - 47s 30ms/step - loss: 0.6797 - accuracy: 0.7613 - val_loss: 1.1966 - val_accuracy: 0.6281\n",
      "Epoch 7/20\n",
      "1563/1563 [==============================] - 47s 30ms/step - loss: 0.6420 - accuracy: 0.7735 - val_loss: 0.7250 - val_accuracy: 0.7486\n",
      "Epoch 8/20\n",
      "1563/1563 [==============================] - 47s 30ms/step - loss: 0.6056 - accuracy: 0.7884 - val_loss: 0.7192 - val_accuracy: 0.7563\n",
      "Epoch 9/20\n",
      "1563/1563 [==============================] - 46s 30ms/step - loss: 0.5618 - accuracy: 0.8039 - val_loss: 0.6701 - val_accuracy: 0.7802\n",
      "Epoch 10/20\n",
      "1563/1563 [==============================] - 46s 30ms/step - loss: 0.5281 - accuracy: 0.8146 - val_loss: 0.7123 - val_accuracy: 0.7673\n",
      "Epoch 11/20\n",
      "1563/1563 [==============================] - 47s 30ms/step - loss: 0.4985 - accuracy: 0.8236 - val_loss: 0.7205 - val_accuracy: 0.7684\n",
      "Epoch 12/20\n",
      "1563/1563 [==============================] - 46s 30ms/step - loss: 0.4715 - accuracy: 0.8343 - val_loss: 0.6655 - val_accuracy: 0.7820\n",
      "Epoch 13/20\n",
      "1563/1563 [==============================] - 46s 30ms/step - loss: 0.4451 - accuracy: 0.8420 - val_loss: 0.6447 - val_accuracy: 0.7916\n",
      "Epoch 14/20\n",
      "1563/1563 [==============================] - 46s 30ms/step - loss: 0.4329 - accuracy: 0.8484 - val_loss: 0.7291 - val_accuracy: 0.7697\n",
      "Epoch 15/20\n",
      "1563/1563 [==============================] - 47s 30ms/step - loss: 0.4107 - accuracy: 0.8555 - val_loss: 0.6802 - val_accuracy: 0.7865\n",
      "Epoch 16/20\n",
      "1563/1563 [==============================] - 46s 30ms/step - loss: 0.3915 - accuracy: 0.8607 - val_loss: 0.7038 - val_accuracy: 0.7820\n",
      "Epoch 17/20\n",
      "1563/1563 [==============================] - 47s 30ms/step - loss: 0.3724 - accuracy: 0.8680 - val_loss: 0.6736 - val_accuracy: 0.7945\n",
      "Epoch 18/20\n",
      "1563/1563 [==============================] - 50s 32ms/step - loss: 0.3565 - accuracy: 0.8736 - val_loss: 0.6453 - val_accuracy: 0.7983\n",
      "Epoch 19/20\n",
      "1563/1563 [==============================] - 50s 32ms/step - loss: 0.3490 - accuracy: 0.8776 - val_loss: 0.7033 - val_accuracy: 0.7896\n",
      "Epoch 20/20\n",
      "1563/1563 [==============================] - 51s 32ms/step - loss: 0.3285 - accuracy: 0.8835 - val_loss: 0.8517 - val_accuracy: 0.7584\n",
      "Test accuracy: 0.758400022983551\n"
     ]
    }
   ],
   "source": [
    "model.compile(loss=keras.losses.categorical_crossentropy, optimizer='adam', metrics=['accuracy']) \n",
    "model.fit(train_images, train_labels, batch_size=batch_size, epochs=epochs, validation_data=(test_images, test_labels), shuffle=True) \n",
    "scores = model.evaluate(test_images, test_labels,verbose=0) \n",
    "print('Test accuracy:', scores[1]) "
   ]
  },
  {
   "cell_type": "markdown",
   "metadata": {},
   "source": [
    "5. Optionally save the model by running the next cell. "
   ]
  },
  {
   "cell_type": "code",
   "execution_count": 26,
   "metadata": {},
   "outputs": [],
   "source": [
    "model.save('cifar_model.keras')"
   ]
  }
 ],
 "metadata": {
  "colab": {
   "collapsed_sections": [],
   "name": "CIfarDataPrepStarter.ipynb",
   "provenance": []
  },
  "kernelspec": {
   "display_name": "Python 3 (ipykernel)",
   "language": "python",
   "name": "python3"
  },
  "language_info": {
   "codemirror_mode": {
    "name": "ipython",
    "version": 3
   },
   "file_extension": ".py",
   "mimetype": "text/x-python",
   "name": "python",
   "nbconvert_exporter": "python",
   "pygments_lexer": "ipython3",
   "version": "3.9.6"
  }
 },
 "nbformat": 4,
 "nbformat_minor": 1
}
