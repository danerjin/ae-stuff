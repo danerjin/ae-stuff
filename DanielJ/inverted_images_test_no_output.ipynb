{
 "cells": [
  {
   "cell_type": "markdown",
   "metadata": {},
   "source": [
    "# Testing Your Network \n",
    "\n",
    "So far you have been working with fully connected, or densely connected networks. These networks work well for extremely well-defined problems, like with the MNIST dataset, but it isn't very good at extracting more general information about a picture.\n",
    "\n",
    "Follow along with this to see how the network from the previous lesson does on a new picture of a handwritten digit. \n",
    "\n",
    "1. Run this cell to import everything you need to run this demonstration"
   ]
  },
  {
   "cell_type": "code",
   "execution_count": 1,
   "metadata": {},
   "outputs": [],
   "source": [
    "from keras.preprocessing import image\n",
    "from PIL import Image,ImageChops \n",
    "import tensorflow as tf\n",
    "from tensorflow import keras\n",
    "from tensorflow.keras.datasets import mnist\n",
    "from tensorflow.keras import backend as K\n",
    "import numpy as np\n",
    "import matplotlib.pyplot as plt\n",
    "%matplotlib inline\n",
    "\n",
    "# helper functions\n",
    "def show_min_max(array, i):\n",
    "    random_image = array[i]\n",
    "    print(random_image.min(), random_image.max())\n",
    "\n",
    "def plot_image(array, i, labels):\n",
    "    plt.imshow(np.squeeze(array[i]))\n",
    "    plt.title(\" Digit \" + str(labels[i]))\n",
    "    plt.xticks([])\n",
    "    plt.yticks([])\n",
    "    plt.show()\n",
    "\n",
    "def predict_image(model, x):\n",
    "    x = x.astype('float32')\n",
    "    x = x / 255.0\n",
    "\n",
    "    x = np.expand_dims(x, axis=0)\n",
    "\n",
    "    image_predict = model.predict(x, verbose=0)\n",
    "    print(\"Predicted Label: \", np.argmax(image_predict))\n",
    "\n",
    "    plt.imshow(np.squeeze(x))\n",
    "    plt.xticks([])\n",
    "    plt.yticks([])\n",
    "    plt.show()\n",
    "    return image_predict\n",
    "\n",
    "def plot_value_array(predictions_array, true_label, h):\n",
    "    plt.grid(False)\n",
    "    plt.xticks(range(10))\n",
    "    plt.yticks([])\n",
    "    thisplot = plt.bar(range(10), predictions_array[0], color=\"#777777\")\n",
    "    plt.ylim([(-1*h), h])\n",
    "    predicted_label = np.argmax(predictions_array)\n",
    "    thisplot[predicted_label].set_color('red')\n",
    "    thisplot[true_label].set_color('blue')\n",
    "    plt.show()\n",
    "\n",
    "model = tf.keras.models.load_model('my_model.h5')"
   ]
  },
  {
   "cell_type": "markdown",
   "metadata": {},
   "source": [
    "2. Run this cell to download an image to test the network with."
   ]
  },
  {
   "cell_type": "code",
   "execution_count": null,
   "metadata": {
    "scrolled": true
   },
   "outputs": [],
   "source": []
  },
  {
   "cell_type": "markdown",
   "metadata": {},
   "source": [
    "3. Run the next cell to see the look at a densely connected network's prediction for this image."
   ]
  },
  {
   "cell_type": "code",
   "execution_count": 2,
   "metadata": {},
   "outputs": [
    {
     "name": "stdout",
     "output_type": "stream",
     "text": [
      "Predicted Label:  6\n"
     ]
    },
    {
     "data": {
      "image/png": "[encoded data removed]",
      "text/plain": [
       "<Figure size 640x480 with 1 Axes>"
      ]
     },
     "metadata": {},
     "output_type": "display_data"
    },
    {
     "data": {
      "image/png": "[encoded data removed]",
      "text/plain": [
       "<Figure size 640x480 with 1 Axes>"
      ]
     },
     "metadata": {},
     "output_type": "display_data"
    }
   ],
   "source": [
    "path = \"test.jpg\"\n",
    "\n",
    "img = tf.keras.preprocessing.image.load_img(path, target_size=(28,28), color_mode = \"grayscale\")\n",
    "x = tf.keras.preprocessing.image.img_to_array(img)\n",
    "true_label = 3\n",
    "p_arr = predict_image(model, x)\n",
    "plot_value_array(p_arr, true_label, 1)"
   ]
  },
  {
   "cell_type": "markdown",
   "metadata": {},
   "source": [
    "The predicted label is printed at the top.\n",
    "The image itself is next. \n",
    "The graph is a plot of the output layer. \n",
    "\n",
    "\n",
    "4. Write down three things you notice about it.\n",
    "5. Then run the cell below, to see the same information about the image with the colors inverted."
   ]
  },
  {
   "cell_type": "code",
   "execution_count": 3,
   "metadata": {},
   "outputs": [
    {
     "name": "stdout",
     "output_type": "stream",
     "text": [
      "Predicted Label:  8\n"
     ]
    },
    {
     "data": {
      "image/png": "[encoded data removed]",
      "text/plain": [
       "<Figure size 640x480 with 1 Axes>"
      ]
     },
     "metadata": {},
     "output_type": "display_data"
    },
    {
     "data": {
      "image/png": "[encoded data removed]",
      "text/plain": [
       "<Figure size 640x480 with 1 Axes>"
      ]
     },
     "metadata": {},
     "output_type": "display_data"
    }
   ],
   "source": [
    "x_inv = 255-x\n",
    "arr = predict_image(model, x_inv)\n",
    "plot_value_array(arr, 3, 1)"
   ]
  },
  {
   "cell_type": "markdown",
   "metadata": {},
   "source": [
    "6. Write down the major changes in this image. Why do you think this is?\n",
    "\n",
    "Forming theories for why a network is operating in a certain way is an important part of machine learning.\n",
    "\n",
    "The network can correctly predict images, but only in a very specific set of parameters.\n",
    "\n",
    " Since all of the training images are white drawings with black backgrounds, when the network tries to guess what an image with a white background is, it has a much harder time making conclusions.\n",
    " \n",
    "![HI](https://i.imgur.com/UsUrDyb.png)"
   ]
  },
  {
   "cell_type": "markdown",
   "metadata": {},
   "source": [
    "Your first guess might be to invert some of the training data so that the network is able to practice on both white backgrounds and black backgrounds. Let's see if it works.\n",
    "\n",
    "## Fixing the Flaws\n",
    "The cell below has all the data preparation code that you wrote for the network that you made. In order to test this theory out, you will add code to invert some of the images in the dataset in order to train the network to recognize images with white backgrounds and black text. \n",
    "\n",
    "1. On line 21, add `train_images[30000:]=255-train_images[30000:]` to invert some of the images\n",
    "2. Run the cell to prepare the data with some inverted images, and see some image examples."
   ]
  },
  {
   "cell_type": "code",
   "execution_count": 4,
   "metadata": {},
   "outputs": [
    {
     "name": "stdout",
     "output_type": "stream",
     "text": [
      "(60000, 28, 28)\n",
      "(10000, 28, 28)\n"
     ]
    },
    {
     "data": {
      "image/png": "[encoded data removed]",
      "text/plain": [
       "<Figure size 640x480 with 1 Axes>"
      ]
     },
     "metadata": {},
     "output_type": "display_data"
    },
    {
     "name": "stdout",
     "output_type": "stream",
     "text": [
      "0 255\n"
     ]
    },
    {
     "data": {
      "image/png": "[encoded data removed]",
      "text/plain": [
       "<Figure size 640x480 with 1 Axes>"
      ]
     },
     "metadata": {},
     "output_type": "display_data"
    },
    {
     "name": "stdout",
     "output_type": "stream",
     "text": [
      "0.0 1.0\n"
     ]
    }
   ],
   "source": [
    "# Set variables to keep track of the number rows and columns for each image\n",
    "img_rows, img_cols = 28, 28  \n",
    "# Set a variable to keep track of the number of output classes\n",
    "num_classes = 10 \n",
    "# Load the train and test data, and a backup of each\n",
    "(train_images, train_labels), (test_images, test_labels) = mnist.load_data() \n",
    "(train_images_backup, train_labels_backup), (test_images_backup, test_labels_backup) = mnist.load_data() \n",
    "# Print the shape to confirm it's the right data\n",
    "print(train_images.shape) \n",
    "print(test_images.shape) \n",
    "# Reshape the data\n",
    "train_images = train_images.reshape(train_images.shape[0], img_rows, img_cols, 1)\n",
    "test_images = test_images.reshape(test_images.shape[0], img_rows, img_cols, 1)\n",
    "# Set an input shape variable to keep track of the input shape\n",
    "input_shape = (img_rows, img_cols, 1)\n",
    "# show an image and it's min and max\n",
    "plot_image(train_images, 30001, train_labels)\n",
    "show_min_max(train_images, 30001)\n",
    "\n",
    "# Add code here to invert the images:\n",
    "train_images[30000:]=255-train_images[30000:]\n",
    "\n",
    "# Convert the data to float32\n",
    "train_images = train_images.astype('float32')\n",
    "test_images = test_images.astype('float32')\n",
    "# Normalize the data to values between 0 and 1\n",
    "train_images /= 255\n",
    "test_images /= 255\n",
    "# Show the image and it's min and max now that the data has been adjusted\n",
    "plot_image(train_images, 30001, train_labels)\n",
    "show_min_max(train_images, 30001)\n",
    "# Perform one hot encoding\n",
    "train_labels = keras.utils.to_categorical(train_labels, num_classes)\n",
    "test_labels = keras.utils.to_categorical(test_labels, num_classes)"
   ]
  },
  {
   "cell_type": "markdown",
   "metadata": {},
   "source": [
    "3. Run the cell below to train your network again. "
   ]
  },
  {
   "cell_type": "code",
   "execution_count": 5,
   "metadata": {
    "colab": {
     "base_uri": "https://localhost:8080/",
     "height": 658
    },
    "executionInfo": {
     "elapsed": 5152,
     "status": "ok",
     "timestamp": 1651860380691,
     "user": {
      "displayName": "Neha Bala",
      "userId": "08158616502322850116"
     },
     "user_tz": 420
    },
    "id": "a_m-ZiupMsB2",
    "outputId": "c17e7e2d-bcf9-416c-8491-d5e869778983",
    "scrolled": false
   },
   "outputs": [
    {
     "name": "stdout",
     "output_type": "stream",
     "text": [
      "Model: \"sequential\"\n",
      "_________________________________________________________________\n",
      " Layer (type)                Output Shape              Param #   \n",
      "=================================================================\n",
      " flatten (Flatten)           (None, 784)               0         \n",
      "                                                                 \n",
      " dense (Dense)               (None, 16)                12560     \n",
      "                                                                 \n",
      " dense_1 (Dense)             (None, 10)                170       \n",
      "                                                                 \n",
      "=================================================================\n",
      "Total params: 12,730\n",
      "Trainable params: 12,730\n",
      "Non-trainable params: 0\n",
      "_________________________________________________________________\n",
      "Epoch 1/10\n",
      "1875/1875 [==============================] - 4s 2ms/step - loss: 1.4275 - accuracy: 0.4737\n",
      "Epoch 2/10\n",
      "1875/1875 [==============================] - 3s 2ms/step - loss: 1.2547 - accuracy: 0.5339\n",
      "Epoch 3/10\n",
      "1875/1875 [==============================] - 3s 2ms/step - loss: 1.1365 - accuracy: 0.5682\n",
      "Epoch 4/10\n",
      "1875/1875 [==============================] - 3s 2ms/step - loss: 1.0701 - accuracy: 0.5893\n",
      "Epoch 5/10\n",
      "1875/1875 [==============================] - 3s 2ms/step - loss: 0.9135 - accuracy: 0.6691\n",
      "Epoch 6/10\n",
      "1875/1875 [==============================] - 3s 2ms/step - loss: 0.7878 - accuracy: 0.7324\n",
      "Epoch 7/10\n",
      "1875/1875 [==============================] - 4s 2ms/step - loss: 0.7100 - accuracy: 0.7718\n",
      "Epoch 8/10\n",
      "1875/1875 [==============================] - 3s 2ms/step - loss: 0.6703 - accuracy: 0.7893\n",
      "Epoch 9/10\n",
      "1875/1875 [==============================] - 3s 2ms/step - loss: 0.6427 - accuracy: 0.7987\n",
      "Epoch 10/10\n",
      "1875/1875 [==============================] - 3s 2ms/step - loss: 0.6245 - accuracy: 0.8042\n",
      "313/313 - 1s - loss: 0.2186 - accuracy: 0.9388 - 675ms/epoch - 2ms/step\n",
      "\n",
      "Test accuracy: 0.9387999773025513\n"
     ]
    }
   ],
   "source": [
    "from tensorflow.keras.models import Sequential \n",
    "from tensorflow.keras.layers import Dense, Flatten\n",
    "\n",
    "epochs = 10\n",
    "model_inv = Sequential() \n",
    "\n",
    "model_inv.add(Flatten(input_shape=input_shape)) \n",
    "model_inv.add(Dense(16, activation='relu')) \n",
    "model_inv.add(Dense(10, activation='softmax')) \n",
    "\n",
    "model_inv.summary()\n",
    "\n",
    "model_inv.compile(optimizer='adam',loss=tf.keras.losses.CategoricalCrossentropy(),metrics=['accuracy'])\n",
    "\n",
    "model_inv.fit(train_images, train_labels, epochs=epochs) \n",
    "\n",
    "test_loss, test_acc = model_inv.evaluate(test_images, test_labels, verbose=2)\n",
    "print('\\nTest accuracy:', test_acc)\n",
    "\n",
    "model_inv.save('cnn_model.h5')"
   ]
  },
  {
   "cell_type": "markdown",
   "metadata": {},
   "source": [
    "Now it's time to see if it worked. Your model still might not get it right, but look at the graph of outputs, and try to understand what differences there are. Likely, you will still not get a network that will be able to recognize this digit. This demonstrates that your densely connected network is not particularly effective at generalizing what it learns.\n",
    "\n",
    "3. Run this cell to see what the prediction of your new model is."
   ]
  },
  {
   "cell_type": "code",
   "execution_count": 6,
   "metadata": {
    "scrolled": false
   },
   "outputs": [
    {
     "name": "stdout",
     "output_type": "stream",
     "text": [
      "Predicted Label:  1\n"
     ]
    },
    {
     "data": {
      "image/png": "[encoded data removed]",
      "text/plain": [
       "<Figure size 640x480 with 1 Axes>"
      ]
     },
     "metadata": {},
     "output_type": "display_data"
    },
    {
     "data": {
      "image/png": "[encoded data removed]",
      "text/plain": [
       "<Figure size 640x480 with 1 Axes>"
      ]
     },
     "metadata": {},
     "output_type": "display_data"
    },
    {
     "name": "stdout",
     "output_type": "stream",
     "text": [
      "[[4.56519192e-03 4.67459381e-01 1.03495255e-01 2.39435695e-02\n",
      "  9.51314811e-04 4.40196395e-02 1.82189301e-01 2.33581275e-04\n",
      "  1.72328338e-01 8.14515515e-04]]\n",
      "[[4.56519192e-03 4.67459381e-01 1.03495255e-01 2.39435695e-02\n",
      "  9.51314811e-04 4.40196395e-02 1.82189301e-01 2.33581275e-04\n",
      "  1.72328338e-01 8.14515515e-04]]\n"
     ]
    }
   ],
   "source": [
    "arr = predict_image(model_inv, x)\n",
    "plot_value_array(arr, 3, 1)\n",
    "print(arr)\n",
    "print(arr)"
   ]
  },
  {
   "cell_type": "markdown",
   "metadata": {},
   "source": [
    "As you can see this does fix the problem you were having, but imagine having to adjust the training data for every new aspect of a test image. This network's usefulness decreases every time the problem that it is trying to solve gets more general. And, since the more general the data gets, the less accurate the network is, you can understand how this kind of network will be less and less effective as the complexity of a problem goes up. \n",
    "\n",
    "So what is the solution? \n",
    "\n",
    "There is another kind of network called Convolutional Neural Networks. These networks are modeled after how a brain thinks, and are much more effective in extracting more general information out of an image than your fully connected network is. \n",
    "\n",
    "Follow along in the next lesson to create a Convolutional Neural Network. "
   ]
  },
  {
   "cell_type": "markdown",
   "metadata": {},
   "source": [
    "## What About The Convolutional Neural Network?\n",
    "\n",
    "After you finish and export your convolutional neural network, come back here and run this cell to see if the convolutional neural network is more effective. "
   ]
  },
  {
   "cell_type": "code",
   "execution_count": 7,
   "metadata": {},
   "outputs": [
    {
     "name": "stdout",
     "output_type": "stream",
     "text": [
      "Predicted Label:  7\n"
     ]
    },
    {
     "data": {
      "image/png": "[encoded data removed]",
      "text/plain": [
       "<Figure size 640x480 with 1 Axes>"
      ]
     },
     "metadata": {},
     "output_type": "display_data"
    },
    {
     "data": {
      "image/png": "[encoded data removed]",
      "text/plain": [
       "<Figure size 640x480 with 1 Axes>"
      ]
     },
     "metadata": {},
     "output_type": "display_data"
    },
    {
     "name": "stdout",
     "output_type": "stream",
     "text": [
      "[[2.6090287e-03 1.2942354e-04 1.1797110e-01 2.9638936e-04 1.1702140e-01\n",
      "  5.1333502e-02 5.5717456e-04 5.4349405e-01 1.1832737e-02 1.5475519e-01]]\n"
     ]
    }
   ],
   "source": [
    "cnn_model = tf.keras.models.load_model('cnn2_model.h5')\n",
    "arr = predict_image(cnn_model, x)\n",
    "plot_value_array(arr, 3, 1)\n",
    "print(arr)"
   ]
  }
 ],
 "metadata": {
  "colab": {
   "collapsed_sections": [],
   "name": "InvertedImagesTest.ipynb",
   "provenance": []
  },
  "kernelspec": {
   "display_name": "Python 3 (ipykernel)",
   "language": "python",
   "name": "python3"
  },
  "language_info": {
   "codemirror_mode": {
    "name": "ipython",
    "version": 3
   },
   "file_extension": ".py",
   "mimetype": "text/x-python",
   "name": "python",
   "nbconvert_exporter": "python",
   "pygments_lexer": "ipython3",
   "version": "3.10.0"
  }
 },
 "nbformat": 4,
 "nbformat_minor": 1
}
