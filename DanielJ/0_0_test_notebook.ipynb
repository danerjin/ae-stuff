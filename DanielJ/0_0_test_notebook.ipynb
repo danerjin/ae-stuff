{
 "cells": [
  {
   "cell_type": "markdown",
   "metadata": {
    "id": "ubbJYMO_MTSa"
   },
   "source": [
    "# Welcome to Jupyter Notebook\n",
    "\n",
    "This is a test notebook to make sure that Jupyter Notebook works."
   ]
  },
  {
   "cell_type": "code",
   "execution_count": null,
   "metadata": {
    "id": "d2o4c9rIMQWC"
   },
   "outputs": [],
   "source": [
    "# Use Ctrl+Enter to run this cell\n",
    "print(\"Hello World\")"
   ]
  },
  {
   "cell_type": "code",
   "execution_count": null,
   "metadata": {
    "scrolled": true
   },
   "outputs": [],
   "source": [
    "import random\n",
    "def game():\n",
    "    bound = int(input(\"Please enter an upper bound: \"))\n",
    "    x = random.randint(1,bound)\n",
    "    assassin = random.randint(1,bound)\n",
    "    while x == assassin:\n",
    "        assassin = random.randint(1,bound)\n",
    "    print(f\"I have a number from 1 to {bound}, please try to guess it!\")\n",
    "    guesses=0\n",
    "    while 1:\n",
    "        guesses+=1\n",
    "        num = int(input(\"PLease enter a number: \"))\n",
    "        if num == assassin:\n",
    "            print(\"The assassin got you!\")\n",
    "            break\n",
    "        if num > x:\n",
    "            print(\"Too high.\")\n",
    "        elif num < x:\n",
    "            print(\"Too low.\")\n",
    "        else:\n",
    "            print(f\"You got it! It took you {guesses} tries.\")\n",
    "            break\n",
    "    response = input(\"Want to play again?(y/n) \")\n",
    "    if response in ['y','yes']:\n",
    "        game()\n",
    "    else:\n",
    "        print(\"Bye, come back to play again!\")\n",
    "game()"
   ]
  },
  {
   "cell_type": "code",
   "execution_count": null,
   "metadata": {},
   "outputs": [],
   "source": [
    "password = \"p422w0rd\"\n",
    "fakeword = \"D37^wj39r2#\"\n",
    "story=\"Once upon a time, there was cool kid named Daniel. He was so cool that he wrote this story.\\nTHE END.\"\n",
    "fakestory = \"Never gonna give you up\\nNever gonna let you down\\nNever gonna run around and desert you\\nNever gonna make you cry\\nNever gonna say goodbye\\nNever gonna tell a lie and hurt you\"\n",
    "while 1:\n",
    "    x = input(\"Please enter the password: \")\n",
    "    if x == password:\n",
    "        print(story)\n",
    "        break\n",
    "    elif x == fakeword:\n",
    "        print(fakestory)\n",
    "        break\n",
    "    else:\n",
    "        print(\"Wrong password! Please try again.\")"
   ]
  },
  {
   "cell_type": "code",
   "execution_count": null,
   "metadata": {},
   "outputs": [],
   "source": [
    "import random\n",
    "num = random.randint(0,10)\n",
    "if num == 0:\n",
    "    print(\"you went broke\")\n",
    "elif 1<=num<=3:\n",
    "    print(\"u will have bad luck\")\n",
    "elif 4<=num<=7:\n",
    "    print(\"The future is cloudy. try again later.\")\n",
    "elif 8<=num<=9:\n",
    "    print(\"The future is in the palm of your hand. great thing await u.\")\n",
    "elif num == 10:\n",
    "    print(\"You won the lottery\")"
   ]
  },
  {
   "cell_type": "code",
   "execution_count": null,
   "metadata": {},
   "outputs": [],
   "source": [
    "print(float(\"1\"))"
   ]
  },
  {
   "cell_type": "code",
   "execution_count": null,
   "metadata": {},
   "outputs": [],
   "source": []
  },
  {
   "cell_type": "code",
   "execution_count": null,
   "metadata": {},
   "outputs": [],
   "source": []
  },
  {
   "cell_type": "code",
   "execution_count": null,
   "metadata": {},
   "outputs": [],
   "source": []
  }
 ],
 "metadata": {
  "colab": {
   "collapsed_sections": [],
   "provenance": []
  },
  "kernelspec": {
   "display_name": "Python 3 (ipykernel)",
   "language": "python",
   "name": "python3"
  },
  "language_info": {
   "codemirror_mode": {
    "name": "ipython",
    "version": 3
   },
   "file_extension": ".py",
   "mimetype": "text/x-python",
   "name": "python",
   "nbconvert_exporter": "python",
   "pygments_lexer": "ipython3",
   "version": "3.10.0"
  }
 },
 "nbformat": 4,
 "nbformat_minor": 1
}
