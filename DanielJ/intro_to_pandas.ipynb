{
 "cells": [
  {
   "cell_type": "markdown",
   "metadata": {
    "id": "snJGFuI5rvGv"
   },
   "source": [
    "# Intro to Pandas\n",
    "\n",
    "So far you have learned about some useful programs for manipulating and working with number data. Both numpy and matplotlib help you do different kinds of math more efficiently on data. \n",
    "\n",
    "However, in Machine Learning, you will also need to deal with large datasets. These datasets are usually organized into **rows** and **columns**. \n",
    "\n",
    "For example, look at this table of iD Tech students: \n",
    "\n",
    "![image](https://i.imgur.com/y1QneYd.png)\n",
    "\n",
    "Each row has a different student's information, and each column has a different category of information. \n",
    "\n",
    "Pandas is a library that helps organize and understand information like this into dataframes. These dataframes are kind of like lists or 2d arrays that you see in Python, but they are much more advanced. Here are some of these differences: \n",
    "\n",
    "*  Dataframes can have all different kinds of information stored in them. All the information in an array or list has to be the same datatype (all integers or all strings).\n",
    "\n",
    "* Dataframes allow you to label each column so you know what the information is about. \n",
    "\n",
    "* Dataframes are always a table with rows and columns, and arrays can have many different dimensions. \n",
    "\n",
    "* Dataframes are optimized for cleaning and sorting data, where arrays are usually set up to do large mathematic operations on the data inside them. \n",
    "\n",
    "Now that you know why dataframes are useful for Machine Learning projects, you are going to do some basic functions for them. \n",
    "\n",
    "1. Run the cell below to see how a dataframe can be created. "
   ]
  },
  {
   "cell_type": "code",
   "execution_count": 2,
   "metadata": {
    "id": "Ul34N-g0rudC"
   },
   "outputs": [
    {
     "name": "stdout",
     "output_type": "stream",
     "text": [
      "     Name Favorite Color  Age\n",
      "0     Rei          Green   13\n",
      "1  Alexis         Yellow   15\n",
      "2   Riley         Purple    8\n",
      "3    Anna         Orange   10\n"
     ]
    }
   ],
   "source": [
    "import pandas as pd\n",
    "\n",
    "my_dataframe = pd.DataFrame(\n",
    "    {\n",
    "        \"Name\": (\"Rei\", \"Alexis\", \"Riley\", \"Anna\"), \n",
    "        \"Favorite Color\": (\"Green\", \"Yellow\", \"Purple\", \"Orange\"), \n",
    "        \"Age\": (13, 15, 8, 10)\n",
    "    }\n",
    ")\n",
    "\n",
    "print(my_dataframe)"
   ]
  },
  {
   "cell_type": "markdown",
   "metadata": {
    "id": "oPWlmXH3Dda4"
   },
   "source": [
    "As you can see making a dataframe is very straightforward. You can manually input different data. \n",
    "\n",
    "2. Edit the dataframe in the cell below to add a column for Favorite Candy. "
   ]
  },
  {
   "cell_type": "code",
   "execution_count": 3,
   "metadata": {
    "id": "Vm2v7eJ4DmyR"
   },
   "outputs": [
    {
     "name": "stdout",
     "output_type": "stream",
     "text": [
      "     Name Favorite Color  Age Favorite Candy\n",
      "0     Rei          Green   13          halls\n",
      "1  Alexis         Yellow   15         haribo\n",
      "2   Riley         Purple    8   swedish fish\n",
      "3    Anna         Orange   10     sour patch\n"
     ]
    }
   ],
   "source": [
    "my_dataframe = pd.DataFrame(\n",
    "    {\n",
    "        \"Name\": (\"Rei\", \"Alexis\", \"Riley\", \"Anna\"), \n",
    "        \"Favorite Color\": (\"Green\", \"Yellow\", \"Purple\", \"Orange\"), \n",
    "        \"Age\": (13, 15, 8, 10), \n",
    "        \"Favorite Candy\": (\"halls\",\"haribo\",\"swedish fish\",\"sour patch\")\n",
    "      # Add favorite candy here:\n",
    "\n",
    "    }\n",
    ")\n",
    "\n",
    "print(my_dataframe)"
   ]
  },
  {
   "cell_type": "markdown",
   "metadata": {
    "id": "sLaPSw2fC3Ra"
   },
   "source": [
    "## Viewing Data\n",
    "\n",
    "As you can see you can print out an entire dataframe using the print function. However, imagine that you have a dataframe with thousands of rows in it. Printing out that whole dataframe would be an issue. \n",
    "\n",
    "Pandas has two functions to help with this: **head** and **tail**. \n",
    "\n",
    "* `head()` will show you the first five rows of data.\n",
    "\n",
    "* `tail()` will show you the last five rows of data.\n",
    "\n",
    "1. In the cell below, there is a test dataset filled with nonsense data. Add a line to call the `head()` function on `test_data` using dot notation. \n",
    "\n",
    "2. Run the cell to see the first five rows of data. \n",
    "\n",
    "<details><summary>Click for final code</summary>\n",
    "\n",
    "```\n",
    "test_data.head()\n",
    "```\n",
    "</details>\n",
    "\n"
   ]
  },
  {
   "cell_type": "code",
   "execution_count": 4,
   "metadata": {
    "id": "O6CZ-JuEDT6Q"
   },
   "outputs": [
    {
     "name": "stderr",
     "output_type": "stream",
     "text": [
      "C:\\Users\\Student\\AppData\\Local\\Programs\\Python\\Python310\\lib\\site-packages\\pandas\\util\\__init__.py:16: FutureWarning: pandas.util.testing is deprecated. Use the functions in the public API at pandas.testing instead.\n",
      "  import pandas.util.testing\n"
     ]
    },
    {
     "data": {
      "text/html": [
       "<div>\n",
       "<style scoped>\n",
       "    .dataframe tbody tr th:only-of-type {\n",
       "        vertical-align: middle;\n",
       "    }\n",
       "\n",
       "    .dataframe tbody tr th {\n",
       "        vertical-align: top;\n",
       "    }\n",
       "\n",
       "    .dataframe thead th {\n",
       "        text-align: right;\n",
       "    }\n",
       "</style>\n",
       "<table border=\"1\" class=\"dataframe\">\n",
       "  <thead>\n",
       "    <tr style=\"text-align: right;\">\n",
       "      <th></th>\n",
       "      <th>A</th>\n",
       "      <th>B</th>\n",
       "      <th>C</th>\n",
       "      <th>D</th>\n",
       "    </tr>\n",
       "  </thead>\n",
       "  <tbody>\n",
       "    <tr>\n",
       "      <th>vy9CkcsrWQ</th>\n",
       "      <td>-0.794462</td>\n",
       "      <td>0.348444</td>\n",
       "      <td>-1.439390</td>\n",
       "      <td>-0.150373</td>\n",
       "    </tr>\n",
       "    <tr>\n",
       "      <th>DkFyd9HfPR</th>\n",
       "      <td>0.111693</td>\n",
       "      <td>1.746739</td>\n",
       "      <td>-1.709156</td>\n",
       "      <td>1.073148</td>\n",
       "    </tr>\n",
       "    <tr>\n",
       "      <th>RpYxhP05U6</th>\n",
       "      <td>-0.186398</td>\n",
       "      <td>-0.953722</td>\n",
       "      <td>1.004589</td>\n",
       "      <td>-0.127816</td>\n",
       "    </tr>\n",
       "    <tr>\n",
       "      <th>d083lwujnT</th>\n",
       "      <td>-0.412738</td>\n",
       "      <td>0.667169</td>\n",
       "      <td>1.070497</td>\n",
       "      <td>-0.162772</td>\n",
       "    </tr>\n",
       "    <tr>\n",
       "      <th>qIlnhuL64V</th>\n",
       "      <td>0.757081</td>\n",
       "      <td>1.030711</td>\n",
       "      <td>-1.628545</td>\n",
       "      <td>0.012195</td>\n",
       "    </tr>\n",
       "  </tbody>\n",
       "</table>\n",
       "</div>"
      ],
      "text/plain": [
       "                   A         B         C         D\n",
       "vy9CkcsrWQ -0.794462  0.348444 -1.439390 -0.150373\n",
       "DkFyd9HfPR  0.111693  1.746739 -1.709156  1.073148\n",
       "RpYxhP05U6 -0.186398 -0.953722  1.004589 -0.127816\n",
       "d083lwujnT -0.412738  0.667169  1.070497 -0.162772\n",
       "qIlnhuL64V  0.757081  1.030711 -1.628545  0.012195"
      ]
     },
     "execution_count": 4,
     "metadata": {},
     "output_type": "execute_result"
    }
   ],
   "source": [
    "test_data = pd.util.testing.makeDataFrame()\n",
    "# Call head() here\n",
    "test_data.head()"
   ]
  },
  {
   "cell_type": "markdown",
   "metadata": {
    "id": "96VYawbJFH5N"
   },
   "source": [
    "3. Call the tail function on test_data in the cell below. \n",
    "4. Run the cell to see the last 5 rows of test_data."
   ]
  },
  {
   "cell_type": "code",
   "execution_count": 5,
   "metadata": {
    "id": "TM5O_-qKEbCG"
   },
   "outputs": [
    {
     "data": {
      "text/html": [
       "<div>\n",
       "<style scoped>\n",
       "    .dataframe tbody tr th:only-of-type {\n",
       "        vertical-align: middle;\n",
       "    }\n",
       "\n",
       "    .dataframe tbody tr th {\n",
       "        vertical-align: top;\n",
       "    }\n",
       "\n",
       "    .dataframe thead th {\n",
       "        text-align: right;\n",
       "    }\n",
       "</style>\n",
       "<table border=\"1\" class=\"dataframe\">\n",
       "  <thead>\n",
       "    <tr style=\"text-align: right;\">\n",
       "      <th></th>\n",
       "      <th>A</th>\n",
       "      <th>B</th>\n",
       "      <th>C</th>\n",
       "      <th>D</th>\n",
       "    </tr>\n",
       "  </thead>\n",
       "  <tbody>\n",
       "    <tr>\n",
       "      <th>MpXeix5cKb</th>\n",
       "      <td>1.103598</td>\n",
       "      <td>-1.026634</td>\n",
       "      <td>0.843728</td>\n",
       "      <td>-0.230944</td>\n",
       "    </tr>\n",
       "    <tr>\n",
       "      <th>oDjvazXKvx</th>\n",
       "      <td>0.502070</td>\n",
       "      <td>1.531006</td>\n",
       "      <td>-1.338666</td>\n",
       "      <td>-1.430758</td>\n",
       "    </tr>\n",
       "    <tr>\n",
       "      <th>ebz7vRQqFc</th>\n",
       "      <td>0.638282</td>\n",
       "      <td>2.472438</td>\n",
       "      <td>0.530261</td>\n",
       "      <td>0.929029</td>\n",
       "    </tr>\n",
       "    <tr>\n",
       "      <th>9m2qL66c0X</th>\n",
       "      <td>0.606861</td>\n",
       "      <td>-0.703505</td>\n",
       "      <td>-0.373153</td>\n",
       "      <td>-1.437634</td>\n",
       "    </tr>\n",
       "    <tr>\n",
       "      <th>nnsNM6Ua7s</th>\n",
       "      <td>0.392429</td>\n",
       "      <td>-0.729237</td>\n",
       "      <td>-0.597740</td>\n",
       "      <td>-0.030875</td>\n",
       "    </tr>\n",
       "  </tbody>\n",
       "</table>\n",
       "</div>"
      ],
      "text/plain": [
       "                   A         B         C         D\n",
       "MpXeix5cKb  1.103598 -1.026634  0.843728 -0.230944\n",
       "oDjvazXKvx  0.502070  1.531006 -1.338666 -1.430758\n",
       "ebz7vRQqFc  0.638282  2.472438  0.530261  0.929029\n",
       "9m2qL66c0X  0.606861 -0.703505 -0.373153 -1.437634\n",
       "nnsNM6Ua7s  0.392429 -0.729237 -0.597740 -0.030875"
      ]
     },
     "execution_count": 5,
     "metadata": {},
     "output_type": "execute_result"
    }
   ],
   "source": [
    "# Try tail() here \n",
    "test_data.tail()"
   ]
  },
  {
   "cell_type": "markdown",
   "metadata": {
    "id": "yYBu0Zh4Fyx0"
   },
   "source": [
    "## Manipulating dataframes\n",
    "\n",
    "Now that you know how to view data, you can drop or add columns from a dataframe. \n",
    "\n",
    "1. Run the code below to see how to drop the A column in your test dataset. "
   ]
  },
  {
   "cell_type": "code",
   "execution_count": 6,
   "metadata": {
    "id": "gb2imtjCF7lL"
   },
   "outputs": [
    {
     "data": {
      "text/html": [
       "<div>\n",
       "<style scoped>\n",
       "    .dataframe tbody tr th:only-of-type {\n",
       "        vertical-align: middle;\n",
       "    }\n",
       "\n",
       "    .dataframe tbody tr th {\n",
       "        vertical-align: top;\n",
       "    }\n",
       "\n",
       "    .dataframe thead th {\n",
       "        text-align: right;\n",
       "    }\n",
       "</style>\n",
       "<table border=\"1\" class=\"dataframe\">\n",
       "  <thead>\n",
       "    <tr style=\"text-align: right;\">\n",
       "      <th></th>\n",
       "      <th>B</th>\n",
       "      <th>C</th>\n",
       "      <th>D</th>\n",
       "    </tr>\n",
       "  </thead>\n",
       "  <tbody>\n",
       "    <tr>\n",
       "      <th>vy9CkcsrWQ</th>\n",
       "      <td>0.348444</td>\n",
       "      <td>-1.439390</td>\n",
       "      <td>-0.150373</td>\n",
       "    </tr>\n",
       "    <tr>\n",
       "      <th>DkFyd9HfPR</th>\n",
       "      <td>1.746739</td>\n",
       "      <td>-1.709156</td>\n",
       "      <td>1.073148</td>\n",
       "    </tr>\n",
       "    <tr>\n",
       "      <th>RpYxhP05U6</th>\n",
       "      <td>-0.953722</td>\n",
       "      <td>1.004589</td>\n",
       "      <td>-0.127816</td>\n",
       "    </tr>\n",
       "    <tr>\n",
       "      <th>d083lwujnT</th>\n",
       "      <td>0.667169</td>\n",
       "      <td>1.070497</td>\n",
       "      <td>-0.162772</td>\n",
       "    </tr>\n",
       "    <tr>\n",
       "      <th>qIlnhuL64V</th>\n",
       "      <td>1.030711</td>\n",
       "      <td>-1.628545</td>\n",
       "      <td>0.012195</td>\n",
       "    </tr>\n",
       "  </tbody>\n",
       "</table>\n",
       "</div>"
      ],
      "text/plain": [
       "                   B         C         D\n",
       "vy9CkcsrWQ  0.348444 -1.439390 -0.150373\n",
       "DkFyd9HfPR  1.746739 -1.709156  1.073148\n",
       "RpYxhP05U6 -0.953722  1.004589 -0.127816\n",
       "d083lwujnT  0.667169  1.070497 -0.162772\n",
       "qIlnhuL64V  1.030711 -1.628545  0.012195"
      ]
     },
     "execution_count": 6,
     "metadata": {},
     "output_type": "execute_result"
    }
   ],
   "source": [
    "test_data = test_data.drop(['A'], axis=1)\n",
    "\n",
    "test_data.head()"
   ]
  },
  {
   "cell_type": "markdown",
   "metadata": {
    "id": "zFPQkVy8Gi4E"
   },
   "source": [
    "2. In the cell below, remove column 'C'. \n",
    "3. Use the `head()` function to see your changes. "
   ]
  },
  {
   "cell_type": "code",
   "execution_count": 7,
   "metadata": {
    "id": "uQPZCVcWGqFz"
   },
   "outputs": [
    {
     "data": {
      "text/html": [
       "<div>\n",
       "<style scoped>\n",
       "    .dataframe tbody tr th:only-of-type {\n",
       "        vertical-align: middle;\n",
       "    }\n",
       "\n",
       "    .dataframe tbody tr th {\n",
       "        vertical-align: top;\n",
       "    }\n",
       "\n",
       "    .dataframe thead th {\n",
       "        text-align: right;\n",
       "    }\n",
       "</style>\n",
       "<table border=\"1\" class=\"dataframe\">\n",
       "  <thead>\n",
       "    <tr style=\"text-align: right;\">\n",
       "      <th></th>\n",
       "      <th>B</th>\n",
       "      <th>D</th>\n",
       "    </tr>\n",
       "  </thead>\n",
       "  <tbody>\n",
       "    <tr>\n",
       "      <th>vy9CkcsrWQ</th>\n",
       "      <td>0.348444</td>\n",
       "      <td>-0.150373</td>\n",
       "    </tr>\n",
       "    <tr>\n",
       "      <th>DkFyd9HfPR</th>\n",
       "      <td>1.746739</td>\n",
       "      <td>1.073148</td>\n",
       "    </tr>\n",
       "    <tr>\n",
       "      <th>RpYxhP05U6</th>\n",
       "      <td>-0.953722</td>\n",
       "      <td>-0.127816</td>\n",
       "    </tr>\n",
       "    <tr>\n",
       "      <th>d083lwujnT</th>\n",
       "      <td>0.667169</td>\n",
       "      <td>-0.162772</td>\n",
       "    </tr>\n",
       "    <tr>\n",
       "      <th>qIlnhuL64V</th>\n",
       "      <td>1.030711</td>\n",
       "      <td>0.012195</td>\n",
       "    </tr>\n",
       "  </tbody>\n",
       "</table>\n",
       "</div>"
      ],
      "text/plain": [
       "                   B         D\n",
       "vy9CkcsrWQ  0.348444 -0.150373\n",
       "DkFyd9HfPR  1.746739  1.073148\n",
       "RpYxhP05U6 -0.953722 -0.127816\n",
       "d083lwujnT  0.667169 -0.162772\n",
       "qIlnhuL64V  1.030711  0.012195"
      ]
     },
     "execution_count": 7,
     "metadata": {},
     "output_type": "execute_result"
    }
   ],
   "source": [
    "# Drop column C here\n",
    "\n",
    "# Use head() to see your changes. \n",
    "test_data = test_data.drop(['C'], axis=1)\n",
    "test_data.head()"
   ]
  },
  {
   "cell_type": "markdown",
   "metadata": {
    "id": "7BDSdW32Jc5W"
   },
   "source": [
    "### Importing Data\n",
    "\n",
    "Another useful things to do with pandas is to import data into a dataframe so that you can manipulate it. You can read data from any online open source location. \n",
    "\n",
    "For example, here is a dataset about many different pengiuns. \n",
    "\n",
    "1. Add a data.head() statement to see the first five rows of the penguin data.\n",
    "2. Run the cell to import and see the data."
   ]
  },
  {
   "cell_type": "code",
   "execution_count": 8,
   "metadata": {
    "id": "qBtsXZxwO3r5"
   },
   "outputs": [
    {
     "data": {
      "text/html": [
       "<div>\n",
       "<style scoped>\n",
       "    .dataframe tbody tr th:only-of-type {\n",
       "        vertical-align: middle;\n",
       "    }\n",
       "\n",
       "    .dataframe tbody tr th {\n",
       "        vertical-align: top;\n",
       "    }\n",
       "\n",
       "    .dataframe thead th {\n",
       "        text-align: right;\n",
       "    }\n",
       "</style>\n",
       "<table border=\"1\" class=\"dataframe\">\n",
       "  <thead>\n",
       "    <tr style=\"text-align: right;\">\n",
       "      <th></th>\n",
       "      <th>species</th>\n",
       "      <th>island</th>\n",
       "      <th>bill_length_mm</th>\n",
       "      <th>bill_depth_mm</th>\n",
       "      <th>flipper_length_mm</th>\n",
       "      <th>body_mass_g</th>\n",
       "      <th>sex</th>\n",
       "    </tr>\n",
       "  </thead>\n",
       "  <tbody>\n",
       "    <tr>\n",
       "      <th>0</th>\n",
       "      <td>Adelie</td>\n",
       "      <td>Torgersen</td>\n",
       "      <td>39.1</td>\n",
       "      <td>18.7</td>\n",
       "      <td>181.0</td>\n",
       "      <td>3750.0</td>\n",
       "      <td>MALE</td>\n",
       "    </tr>\n",
       "    <tr>\n",
       "      <th>1</th>\n",
       "      <td>Adelie</td>\n",
       "      <td>Torgersen</td>\n",
       "      <td>39.5</td>\n",
       "      <td>17.4</td>\n",
       "      <td>186.0</td>\n",
       "      <td>3800.0</td>\n",
       "      <td>FEMALE</td>\n",
       "    </tr>\n",
       "    <tr>\n",
       "      <th>2</th>\n",
       "      <td>Adelie</td>\n",
       "      <td>Torgersen</td>\n",
       "      <td>40.3</td>\n",
       "      <td>18.0</td>\n",
       "      <td>195.0</td>\n",
       "      <td>3250.0</td>\n",
       "      <td>FEMALE</td>\n",
       "    </tr>\n",
       "    <tr>\n",
       "      <th>3</th>\n",
       "      <td>Adelie</td>\n",
       "      <td>Torgersen</td>\n",
       "      <td>NaN</td>\n",
       "      <td>NaN</td>\n",
       "      <td>NaN</td>\n",
       "      <td>NaN</td>\n",
       "      <td>NaN</td>\n",
       "    </tr>\n",
       "    <tr>\n",
       "      <th>4</th>\n",
       "      <td>Adelie</td>\n",
       "      <td>Torgersen</td>\n",
       "      <td>36.7</td>\n",
       "      <td>19.3</td>\n",
       "      <td>193.0</td>\n",
       "      <td>3450.0</td>\n",
       "      <td>FEMALE</td>\n",
       "    </tr>\n",
       "  </tbody>\n",
       "</table>\n",
       "</div>"
      ],
      "text/plain": [
       "  species     island  bill_length_mm  bill_depth_mm  flipper_length_mm  \\\n",
       "0  Adelie  Torgersen            39.1           18.7              181.0   \n",
       "1  Adelie  Torgersen            39.5           17.4              186.0   \n",
       "2  Adelie  Torgersen            40.3           18.0              195.0   \n",
       "3  Adelie  Torgersen             NaN            NaN                NaN   \n",
       "4  Adelie  Torgersen            36.7           19.3              193.0   \n",
       "\n",
       "   body_mass_g     sex  \n",
       "0       3750.0    MALE  \n",
       "1       3800.0  FEMALE  \n",
       "2       3250.0  FEMALE  \n",
       "3          NaN     NaN  \n",
       "4       3450.0  FEMALE  "
      ]
     },
     "execution_count": 8,
     "metadata": {},
     "output_type": "execute_result"
    }
   ],
   "source": [
    "penguins = pd.read_csv('https://raw.githubusercontent.com/mwaskom/seaborn-data/master/penguins.csv')\n",
    "# Add your head() call here.\n",
    "penguins.head()"
   ]
  },
  {
   "cell_type": "markdown",
   "metadata": {
    "id": "ZJ3NkSfKbNh4"
   },
   "source": [
    "### Dropping Useless Rows\n",
    "\n",
    "When you import data like this, sometimes you get bad rows where there isn't useful data. You can use a function called `dropna()` to get rid of bad data. \n",
    "\n",
    "1. In the cell below, use dot notation to call `dropna()` on the penguins dataframe to drop the rows where at least one element is mising. \n",
    "2. Add a head call to see the changes."
   ]
  },
  {
   "cell_type": "code",
   "execution_count": 10,
   "metadata": {
    "id": "BLNoLQWNcyIt"
   },
   "outputs": [
    {
     "data": {
      "text/html": [
       "<div>\n",
       "<style scoped>\n",
       "    .dataframe tbody tr th:only-of-type {\n",
       "        vertical-align: middle;\n",
       "    }\n",
       "\n",
       "    .dataframe tbody tr th {\n",
       "        vertical-align: top;\n",
       "    }\n",
       "\n",
       "    .dataframe thead th {\n",
       "        text-align: right;\n",
       "    }\n",
       "</style>\n",
       "<table border=\"1\" class=\"dataframe\">\n",
       "  <thead>\n",
       "    <tr style=\"text-align: right;\">\n",
       "      <th></th>\n",
       "      <th>species</th>\n",
       "      <th>island</th>\n",
       "      <th>bill_length_mm</th>\n",
       "      <th>bill_depth_mm</th>\n",
       "      <th>flipper_length_mm</th>\n",
       "      <th>body_mass_g</th>\n",
       "      <th>sex</th>\n",
       "    </tr>\n",
       "  </thead>\n",
       "  <tbody>\n",
       "    <tr>\n",
       "      <th>0</th>\n",
       "      <td>Adelie</td>\n",
       "      <td>Torgersen</td>\n",
       "      <td>39.1</td>\n",
       "      <td>18.7</td>\n",
       "      <td>181.0</td>\n",
       "      <td>3750.0</td>\n",
       "      <td>MALE</td>\n",
       "    </tr>\n",
       "    <tr>\n",
       "      <th>1</th>\n",
       "      <td>Adelie</td>\n",
       "      <td>Torgersen</td>\n",
       "      <td>39.5</td>\n",
       "      <td>17.4</td>\n",
       "      <td>186.0</td>\n",
       "      <td>3800.0</td>\n",
       "      <td>FEMALE</td>\n",
       "    </tr>\n",
       "    <tr>\n",
       "      <th>2</th>\n",
       "      <td>Adelie</td>\n",
       "      <td>Torgersen</td>\n",
       "      <td>40.3</td>\n",
       "      <td>18.0</td>\n",
       "      <td>195.0</td>\n",
       "      <td>3250.0</td>\n",
       "      <td>FEMALE</td>\n",
       "    </tr>\n",
       "    <tr>\n",
       "      <th>4</th>\n",
       "      <td>Adelie</td>\n",
       "      <td>Torgersen</td>\n",
       "      <td>36.7</td>\n",
       "      <td>19.3</td>\n",
       "      <td>193.0</td>\n",
       "      <td>3450.0</td>\n",
       "      <td>FEMALE</td>\n",
       "    </tr>\n",
       "    <tr>\n",
       "      <th>5</th>\n",
       "      <td>Adelie</td>\n",
       "      <td>Torgersen</td>\n",
       "      <td>39.3</td>\n",
       "      <td>20.6</td>\n",
       "      <td>190.0</td>\n",
       "      <td>3650.0</td>\n",
       "      <td>MALE</td>\n",
       "    </tr>\n",
       "  </tbody>\n",
       "</table>\n",
       "</div>"
      ],
      "text/plain": [
       "  species     island  bill_length_mm  bill_depth_mm  flipper_length_mm  \\\n",
       "0  Adelie  Torgersen            39.1           18.7              181.0   \n",
       "1  Adelie  Torgersen            39.5           17.4              186.0   \n",
       "2  Adelie  Torgersen            40.3           18.0              195.0   \n",
       "4  Adelie  Torgersen            36.7           19.3              193.0   \n",
       "5  Adelie  Torgersen            39.3           20.6              190.0   \n",
       "\n",
       "   body_mass_g     sex  \n",
       "0       3750.0    MALE  \n",
       "1       3800.0  FEMALE  \n",
       "2       3250.0  FEMALE  \n",
       "4       3450.0  FEMALE  \n",
       "5       3650.0    MALE  "
      ]
     },
     "execution_count": 10,
     "metadata": {},
     "output_type": "execute_result"
    }
   ],
   "source": [
    "# Use dropna here\n",
    "penguins = penguins.dropna()\n",
    "# Add code to show the first 5 rows here\n",
    "penguins.head()"
   ]
  },
  {
   "cell_type": "markdown",
   "metadata": {
    "id": "5ACbsHzgdJCc"
   },
   "source": [
    "## Selecting Data\n",
    "\n",
    "You might also be in a situation where you want to create a dataset with only some of the data in it. In this case, you can select different parts of the data. \n",
    "\n",
    "In order to do this you can use the name of a column in square brackets to show that column. For example, to see the island that each penguin is from, use this code: \n",
    "\n",
    "```\n",
    "penguins['island']\n",
    "```\n",
    "\n",
    "1. Add code in the cell below to see all penguins species."
   ]
  },
  {
   "cell_type": "code",
   "execution_count": 14,
   "metadata": {
    "colab": {
     "base_uri": "https://localhost:8080/"
    },
    "id": "hsdpqAUudXrN",
    "outputId": "0768d68a-4e31-4551-e22a-f4707eec65d4"
   },
   "outputs": [
    {
     "data": {
      "text/plain": [
       "0      Adelie\n",
       "1      Adelie\n",
       "2      Adelie\n",
       "4      Adelie\n",
       "5      Adelie\n",
       "        ...  \n",
       "338    Gentoo\n",
       "340    Gentoo\n",
       "341    Gentoo\n",
       "342    Gentoo\n",
       "343    Gentoo\n",
       "Name: species, Length: 333, dtype: object"
      ]
     },
     "execution_count": 14,
     "metadata": {},
     "output_type": "execute_result"
    }
   ],
   "source": [
    "# Add code here\n",
    "penguins['species']"
   ]
  },
  {
   "cell_type": "markdown",
   "metadata": {
    "id": "HnU91-Tvdxub"
   },
   "source": [
    "You can also select a series of rows using the ` : `. For example, run the cell below to see row 14 through 23."
   ]
  },
  {
   "cell_type": "code",
   "execution_count": 15,
   "metadata": {
    "id": "Fyk1hnQPeBGL"
   },
   "outputs": [
    {
     "data": {
      "text/html": [
       "<div>\n",
       "<style scoped>\n",
       "    .dataframe tbody tr th:only-of-type {\n",
       "        vertical-align: middle;\n",
       "    }\n",
       "\n",
       "    .dataframe tbody tr th {\n",
       "        vertical-align: top;\n",
       "    }\n",
       "\n",
       "    .dataframe thead th {\n",
       "        text-align: right;\n",
       "    }\n",
       "</style>\n",
       "<table border=\"1\" class=\"dataframe\">\n",
       "  <thead>\n",
       "    <tr style=\"text-align: right;\">\n",
       "      <th></th>\n",
       "      <th>species</th>\n",
       "      <th>island</th>\n",
       "      <th>bill_length_mm</th>\n",
       "      <th>bill_depth_mm</th>\n",
       "      <th>flipper_length_mm</th>\n",
       "      <th>body_mass_g</th>\n",
       "      <th>sex</th>\n",
       "    </tr>\n",
       "  </thead>\n",
       "  <tbody>\n",
       "    <tr>\n",
       "      <th>19</th>\n",
       "      <td>Adelie</td>\n",
       "      <td>Torgersen</td>\n",
       "      <td>46.0</td>\n",
       "      <td>21.5</td>\n",
       "      <td>194.0</td>\n",
       "      <td>4200.0</td>\n",
       "      <td>MALE</td>\n",
       "    </tr>\n",
       "    <tr>\n",
       "      <th>20</th>\n",
       "      <td>Adelie</td>\n",
       "      <td>Biscoe</td>\n",
       "      <td>37.8</td>\n",
       "      <td>18.3</td>\n",
       "      <td>174.0</td>\n",
       "      <td>3400.0</td>\n",
       "      <td>FEMALE</td>\n",
       "    </tr>\n",
       "    <tr>\n",
       "      <th>21</th>\n",
       "      <td>Adelie</td>\n",
       "      <td>Biscoe</td>\n",
       "      <td>37.7</td>\n",
       "      <td>18.7</td>\n",
       "      <td>180.0</td>\n",
       "      <td>3600.0</td>\n",
       "      <td>MALE</td>\n",
       "    </tr>\n",
       "    <tr>\n",
       "      <th>22</th>\n",
       "      <td>Adelie</td>\n",
       "      <td>Biscoe</td>\n",
       "      <td>35.9</td>\n",
       "      <td>19.2</td>\n",
       "      <td>189.0</td>\n",
       "      <td>3800.0</td>\n",
       "      <td>FEMALE</td>\n",
       "    </tr>\n",
       "    <tr>\n",
       "      <th>23</th>\n",
       "      <td>Adelie</td>\n",
       "      <td>Biscoe</td>\n",
       "      <td>38.2</td>\n",
       "      <td>18.1</td>\n",
       "      <td>185.0</td>\n",
       "      <td>3950.0</td>\n",
       "      <td>MALE</td>\n",
       "    </tr>\n",
       "    <tr>\n",
       "      <th>24</th>\n",
       "      <td>Adelie</td>\n",
       "      <td>Biscoe</td>\n",
       "      <td>38.8</td>\n",
       "      <td>17.2</td>\n",
       "      <td>180.0</td>\n",
       "      <td>3800.0</td>\n",
       "      <td>MALE</td>\n",
       "    </tr>\n",
       "    <tr>\n",
       "      <th>25</th>\n",
       "      <td>Adelie</td>\n",
       "      <td>Biscoe</td>\n",
       "      <td>35.3</td>\n",
       "      <td>18.9</td>\n",
       "      <td>187.0</td>\n",
       "      <td>3800.0</td>\n",
       "      <td>FEMALE</td>\n",
       "    </tr>\n",
       "    <tr>\n",
       "      <th>26</th>\n",
       "      <td>Adelie</td>\n",
       "      <td>Biscoe</td>\n",
       "      <td>40.6</td>\n",
       "      <td>18.6</td>\n",
       "      <td>183.0</td>\n",
       "      <td>3550.0</td>\n",
       "      <td>MALE</td>\n",
       "    </tr>\n",
       "    <tr>\n",
       "      <th>27</th>\n",
       "      <td>Adelie</td>\n",
       "      <td>Biscoe</td>\n",
       "      <td>40.5</td>\n",
       "      <td>17.9</td>\n",
       "      <td>187.0</td>\n",
       "      <td>3200.0</td>\n",
       "      <td>FEMALE</td>\n",
       "    </tr>\n",
       "  </tbody>\n",
       "</table>\n",
       "</div>"
      ],
      "text/plain": [
       "   species     island  bill_length_mm  bill_depth_mm  flipper_length_mm  \\\n",
       "19  Adelie  Torgersen            46.0           21.5              194.0   \n",
       "20  Adelie     Biscoe            37.8           18.3              174.0   \n",
       "21  Adelie     Biscoe            37.7           18.7              180.0   \n",
       "22  Adelie     Biscoe            35.9           19.2              189.0   \n",
       "23  Adelie     Biscoe            38.2           18.1              185.0   \n",
       "24  Adelie     Biscoe            38.8           17.2              180.0   \n",
       "25  Adelie     Biscoe            35.3           18.9              187.0   \n",
       "26  Adelie     Biscoe            40.6           18.6              183.0   \n",
       "27  Adelie     Biscoe            40.5           17.9              187.0   \n",
       "\n",
       "    body_mass_g     sex  \n",
       "19       4200.0    MALE  \n",
       "20       3400.0  FEMALE  \n",
       "21       3600.0    MALE  \n",
       "22       3800.0  FEMALE  \n",
       "23       3950.0    MALE  \n",
       "24       3800.0    MALE  \n",
       "25       3800.0  FEMALE  \n",
       "26       3550.0    MALE  \n",
       "27       3200.0  FEMALE  "
      ]
     },
     "execution_count": 15,
     "metadata": {},
     "output_type": "execute_result"
    }
   ],
   "source": [
    "# Selecting rows 14 through 23\n",
    "penguins[14:23]"
   ]
  },
  {
   "cell_type": "markdown",
   "metadata": {
    "id": "qhp-kICvePPC"
   },
   "source": [
    "2. Write code to show rows 4 through 15"
   ]
  },
  {
   "cell_type": "code",
   "execution_count": 18,
   "metadata": {
    "id": "yz1FsQweeUKS"
   },
   "outputs": [
    {
     "data": {
      "text/html": [
       "<div>\n",
       "<style scoped>\n",
       "    .dataframe tbody tr th:only-of-type {\n",
       "        vertical-align: middle;\n",
       "    }\n",
       "\n",
       "    .dataframe tbody tr th {\n",
       "        vertical-align: top;\n",
       "    }\n",
       "\n",
       "    .dataframe thead th {\n",
       "        text-align: right;\n",
       "    }\n",
       "</style>\n",
       "<table border=\"1\" class=\"dataframe\">\n",
       "  <thead>\n",
       "    <tr style=\"text-align: right;\">\n",
       "      <th></th>\n",
       "      <th>species</th>\n",
       "      <th>island</th>\n",
       "      <th>bill_length_mm</th>\n",
       "      <th>bill_depth_mm</th>\n",
       "      <th>flipper_length_mm</th>\n",
       "      <th>body_mass_g</th>\n",
       "      <th>sex</th>\n",
       "    </tr>\n",
       "  </thead>\n",
       "  <tbody>\n",
       "    <tr>\n",
       "      <th>4</th>\n",
       "      <td>Adelie</td>\n",
       "      <td>Torgersen</td>\n",
       "      <td>36.7</td>\n",
       "      <td>19.3</td>\n",
       "      <td>193.0</td>\n",
       "      <td>3450.0</td>\n",
       "      <td>FEMALE</td>\n",
       "    </tr>\n",
       "    <tr>\n",
       "      <th>5</th>\n",
       "      <td>Adelie</td>\n",
       "      <td>Torgersen</td>\n",
       "      <td>39.3</td>\n",
       "      <td>20.6</td>\n",
       "      <td>190.0</td>\n",
       "      <td>3650.0</td>\n",
       "      <td>MALE</td>\n",
       "    </tr>\n",
       "    <tr>\n",
       "      <th>6</th>\n",
       "      <td>Adelie</td>\n",
       "      <td>Torgersen</td>\n",
       "      <td>38.9</td>\n",
       "      <td>17.8</td>\n",
       "      <td>181.0</td>\n",
       "      <td>3625.0</td>\n",
       "      <td>FEMALE</td>\n",
       "    </tr>\n",
       "    <tr>\n",
       "      <th>7</th>\n",
       "      <td>Adelie</td>\n",
       "      <td>Torgersen</td>\n",
       "      <td>39.2</td>\n",
       "      <td>19.6</td>\n",
       "      <td>195.0</td>\n",
       "      <td>4675.0</td>\n",
       "      <td>MALE</td>\n",
       "    </tr>\n",
       "    <tr>\n",
       "      <th>12</th>\n",
       "      <td>Adelie</td>\n",
       "      <td>Torgersen</td>\n",
       "      <td>41.1</td>\n",
       "      <td>17.6</td>\n",
       "      <td>182.0</td>\n",
       "      <td>3200.0</td>\n",
       "      <td>FEMALE</td>\n",
       "    </tr>\n",
       "    <tr>\n",
       "      <th>13</th>\n",
       "      <td>Adelie</td>\n",
       "      <td>Torgersen</td>\n",
       "      <td>38.6</td>\n",
       "      <td>21.2</td>\n",
       "      <td>191.0</td>\n",
       "      <td>3800.0</td>\n",
       "      <td>MALE</td>\n",
       "    </tr>\n",
       "    <tr>\n",
       "      <th>14</th>\n",
       "      <td>Adelie</td>\n",
       "      <td>Torgersen</td>\n",
       "      <td>34.6</td>\n",
       "      <td>21.1</td>\n",
       "      <td>198.0</td>\n",
       "      <td>4400.0</td>\n",
       "      <td>MALE</td>\n",
       "    </tr>\n",
       "    <tr>\n",
       "      <th>15</th>\n",
       "      <td>Adelie</td>\n",
       "      <td>Torgersen</td>\n",
       "      <td>36.6</td>\n",
       "      <td>17.8</td>\n",
       "      <td>185.0</td>\n",
       "      <td>3700.0</td>\n",
       "      <td>FEMALE</td>\n",
       "    </tr>\n",
       "  </tbody>\n",
       "</table>\n",
       "</div>"
      ],
      "text/plain": [
       "   species     island  bill_length_mm  bill_depth_mm  flipper_length_mm  \\\n",
       "4   Adelie  Torgersen            36.7           19.3              193.0   \n",
       "5   Adelie  Torgersen            39.3           20.6              190.0   \n",
       "6   Adelie  Torgersen            38.9           17.8              181.0   \n",
       "7   Adelie  Torgersen            39.2           19.6              195.0   \n",
       "12  Adelie  Torgersen            41.1           17.6              182.0   \n",
       "13  Adelie  Torgersen            38.6           21.2              191.0   \n",
       "14  Adelie  Torgersen            34.6           21.1              198.0   \n",
       "15  Adelie  Torgersen            36.6           17.8              185.0   \n",
       "\n",
       "    body_mass_g     sex  \n",
       "4        3450.0  FEMALE  \n",
       "5        3650.0    MALE  \n",
       "6        3625.0  FEMALE  \n",
       "7        4675.0    MALE  \n",
       "12       3200.0  FEMALE  \n",
       "13       3800.0    MALE  \n",
       "14       4400.0    MALE  \n",
       "15       3700.0  FEMALE  "
      ]
     },
     "execution_count": 18,
     "metadata": {},
     "output_type": "execute_result"
    }
   ],
   "source": [
    "# Add your code here:\n",
    "penguins[3:11]"
   ]
  },
  {
   "cell_type": "markdown",
   "metadata": {
    "id": "i_691-WVeYVC"
   },
   "source": [
    "### Sorting\n",
    "\n",
    "You can also sort data by it's value. This can be useful if you want to find specific rows of data, or if you want the data in a certain order for some reason. \n",
    "\n",
    "1. In the cell below, there is code to sort the data by flipper length. Add code to show the first five rows of data. \n"
   ]
  },
  {
   "cell_type": "code",
   "execution_count": 19,
   "metadata": {
    "id": "PWfp9JGxebDx"
   },
   "outputs": [
    {
     "data": {
      "text/html": [
       "<div>\n",
       "<style scoped>\n",
       "    .dataframe tbody tr th:only-of-type {\n",
       "        vertical-align: middle;\n",
       "    }\n",
       "\n",
       "    .dataframe tbody tr th {\n",
       "        vertical-align: top;\n",
       "    }\n",
       "\n",
       "    .dataframe thead th {\n",
       "        text-align: right;\n",
       "    }\n",
       "</style>\n",
       "<table border=\"1\" class=\"dataframe\">\n",
       "  <thead>\n",
       "    <tr style=\"text-align: right;\">\n",
       "      <th></th>\n",
       "      <th>species</th>\n",
       "      <th>island</th>\n",
       "      <th>bill_length_mm</th>\n",
       "      <th>bill_depth_mm</th>\n",
       "      <th>flipper_length_mm</th>\n",
       "      <th>body_mass_g</th>\n",
       "      <th>sex</th>\n",
       "    </tr>\n",
       "  </thead>\n",
       "  <tbody>\n",
       "    <tr>\n",
       "      <th>283</th>\n",
       "      <td>Gentoo</td>\n",
       "      <td>Biscoe</td>\n",
       "      <td>54.3</td>\n",
       "      <td>15.7</td>\n",
       "      <td>231.0</td>\n",
       "      <td>5650.0</td>\n",
       "      <td>MALE</td>\n",
       "    </tr>\n",
       "    <tr>\n",
       "      <th>309</th>\n",
       "      <td>Gentoo</td>\n",
       "      <td>Biscoe</td>\n",
       "      <td>52.1</td>\n",
       "      <td>17.0</td>\n",
       "      <td>230.0</td>\n",
       "      <td>5550.0</td>\n",
       "      <td>MALE</td>\n",
       "    </tr>\n",
       "    <tr>\n",
       "      <th>221</th>\n",
       "      <td>Gentoo</td>\n",
       "      <td>Biscoe</td>\n",
       "      <td>50.0</td>\n",
       "      <td>16.3</td>\n",
       "      <td>230.0</td>\n",
       "      <td>5700.0</td>\n",
       "      <td>MALE</td>\n",
       "    </tr>\n",
       "    <tr>\n",
       "      <th>295</th>\n",
       "      <td>Gentoo</td>\n",
       "      <td>Biscoe</td>\n",
       "      <td>48.6</td>\n",
       "      <td>16.0</td>\n",
       "      <td>230.0</td>\n",
       "      <td>5800.0</td>\n",
       "      <td>MALE</td>\n",
       "    </tr>\n",
       "    <tr>\n",
       "      <th>285</th>\n",
       "      <td>Gentoo</td>\n",
       "      <td>Biscoe</td>\n",
       "      <td>49.8</td>\n",
       "      <td>16.8</td>\n",
       "      <td>230.0</td>\n",
       "      <td>5700.0</td>\n",
       "      <td>MALE</td>\n",
       "    </tr>\n",
       "  </tbody>\n",
       "</table>\n",
       "</div>"
      ],
      "text/plain": [
       "    species  island  bill_length_mm  bill_depth_mm  flipper_length_mm  \\\n",
       "283  Gentoo  Biscoe            54.3           15.7              231.0   \n",
       "309  Gentoo  Biscoe            52.1           17.0              230.0   \n",
       "221  Gentoo  Biscoe            50.0           16.3              230.0   \n",
       "295  Gentoo  Biscoe            48.6           16.0              230.0   \n",
       "285  Gentoo  Biscoe            49.8           16.8              230.0   \n",
       "\n",
       "     body_mass_g   sex  \n",
       "283       5650.0  MALE  \n",
       "309       5550.0  MALE  \n",
       "221       5700.0  MALE  \n",
       "295       5800.0  MALE  \n",
       "285       5700.0  MALE  "
      ]
     },
     "execution_count": 19,
     "metadata": {},
     "output_type": "execute_result"
    }
   ],
   "source": [
    "# Sort penguines by flipper length\n",
    "penguins = penguins.sort_values(by=\"flipper_length_mm\", ascending=False)\n",
    "\n",
    "# Add code to print the first few rows:\n",
    "penguins.head()"
   ]
  },
  {
   "cell_type": "markdown",
   "metadata": {
    "id": "xvFduzIbEwCO"
   },
   "source": [
    "2. In the cell below, sort the data by body mass. \n",
    "3. Then show the last five rows of data."
   ]
  },
  {
   "cell_type": "code",
   "execution_count": 20,
   "metadata": {
    "id": "dxyuNLKQE5d-"
   },
   "outputs": [
    {
     "data": {
      "text/html": [
       "<div>\n",
       "<style scoped>\n",
       "    .dataframe tbody tr th:only-of-type {\n",
       "        vertical-align: middle;\n",
       "    }\n",
       "\n",
       "    .dataframe tbody tr th {\n",
       "        vertical-align: top;\n",
       "    }\n",
       "\n",
       "    .dataframe thead th {\n",
       "        text-align: right;\n",
       "    }\n",
       "</style>\n",
       "<table border=\"1\" class=\"dataframe\">\n",
       "  <thead>\n",
       "    <tr style=\"text-align: right;\">\n",
       "      <th></th>\n",
       "      <th>species</th>\n",
       "      <th>island</th>\n",
       "      <th>bill_length_mm</th>\n",
       "      <th>bill_depth_mm</th>\n",
       "      <th>flipper_length_mm</th>\n",
       "      <th>body_mass_g</th>\n",
       "      <th>sex</th>\n",
       "    </tr>\n",
       "  </thead>\n",
       "  <tbody>\n",
       "    <tr>\n",
       "      <th>237</th>\n",
       "      <td>Gentoo</td>\n",
       "      <td>Biscoe</td>\n",
       "      <td>49.2</td>\n",
       "      <td>15.2</td>\n",
       "      <td>221.0</td>\n",
       "      <td>6300.0</td>\n",
       "      <td>MALE</td>\n",
       "    </tr>\n",
       "    <tr>\n",
       "      <th>253</th>\n",
       "      <td>Gentoo</td>\n",
       "      <td>Biscoe</td>\n",
       "      <td>59.6</td>\n",
       "      <td>17.0</td>\n",
       "      <td>230.0</td>\n",
       "      <td>6050.0</td>\n",
       "      <td>MALE</td>\n",
       "    </tr>\n",
       "    <tr>\n",
       "      <th>297</th>\n",
       "      <td>Gentoo</td>\n",
       "      <td>Biscoe</td>\n",
       "      <td>51.1</td>\n",
       "      <td>16.3</td>\n",
       "      <td>220.0</td>\n",
       "      <td>6000.0</td>\n",
       "      <td>MALE</td>\n",
       "    </tr>\n",
       "    <tr>\n",
       "      <th>337</th>\n",
       "      <td>Gentoo</td>\n",
       "      <td>Biscoe</td>\n",
       "      <td>48.8</td>\n",
       "      <td>16.2</td>\n",
       "      <td>222.0</td>\n",
       "      <td>6000.0</td>\n",
       "      <td>MALE</td>\n",
       "    </tr>\n",
       "    <tr>\n",
       "      <th>331</th>\n",
       "      <td>Gentoo</td>\n",
       "      <td>Biscoe</td>\n",
       "      <td>49.8</td>\n",
       "      <td>15.9</td>\n",
       "      <td>229.0</td>\n",
       "      <td>5950.0</td>\n",
       "      <td>MALE</td>\n",
       "    </tr>\n",
       "  </tbody>\n",
       "</table>\n",
       "</div>"
      ],
      "text/plain": [
       "    species  island  bill_length_mm  bill_depth_mm  flipper_length_mm  \\\n",
       "237  Gentoo  Biscoe            49.2           15.2              221.0   \n",
       "253  Gentoo  Biscoe            59.6           17.0              230.0   \n",
       "297  Gentoo  Biscoe            51.1           16.3              220.0   \n",
       "337  Gentoo  Biscoe            48.8           16.2              222.0   \n",
       "331  Gentoo  Biscoe            49.8           15.9              229.0   \n",
       "\n",
       "     body_mass_g   sex  \n",
       "237       6300.0  MALE  \n",
       "253       6050.0  MALE  \n",
       "297       6000.0  MALE  \n",
       "337       6000.0  MALE  \n",
       "331       5950.0  MALE  "
      ]
     },
     "execution_count": 20,
     "metadata": {},
     "output_type": "execute_result"
    }
   ],
   "source": [
    "# Sort penguins by body mass\n",
    "penguins = penguins.sort_values(by=\"body_mass_g\", ascending=False)\n",
    "# Show the last five rows of data\n",
    "penguins.head()"
   ]
  },
  {
   "cell_type": "markdown",
   "metadata": {
    "id": "liQHAHOkGCkz"
   },
   "source": [
    "### Recap \n",
    "\n",
    "Now you know how to do some basic and important commands using the pandas library. You can create dataframes, import data, drop rows, and sort information. This library is powerful, and allows you to do a lot of cool things with datasets. \n",
    " "
   ]
  }
 ],
 "metadata": {
  "colab": {
   "provenance": []
  },
  "kernelspec": {
   "display_name": "Python 3 (ipykernel)",
   "language": "python",
   "name": "python3"
  },
  "language_info": {
   "codemirror_mode": {
    "name": "ipython",
    "version": 3
   },
   "file_extension": ".py",
   "mimetype": "text/x-python",
   "name": "python",
   "nbconvert_exporter": "python",
   "pygments_lexer": "ipython3",
   "version": "3.10.0"
  }
 },
 "nbformat": 4,
 "nbformat_minor": 1
}
