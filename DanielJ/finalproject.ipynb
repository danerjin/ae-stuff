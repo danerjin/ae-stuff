{
 "cells": [
  {
   "cell_type": "code",
   "execution_count": 1,
   "id": "31d096ba",
   "metadata": {},
   "outputs": [
    {
     "name": "stdout",
     "output_type": "stream",
     "text": [
      "Downloading data from https://storage.googleapis.com/tensorflow/tf-keras-datasets/mnist.npz\n",
      "11490434/11490434 [==============================] - 5s 0us/step\n"
     ]
    }
   ],
   "source": [
    "import tensorflow as tf\n",
    "from tensorflow import keras\n",
    "from tensorflow.keras.datasets import mnist\n",
    "from tensorflow.keras import backend as K\n",
    "import numpy as np\n",
    "import matplotlib.pyplot as plt\n",
    "from PIL import Image\n",
    "%matplotlib inline\n",
    "\n",
    "# helper functions\n",
    "def show_min_max(array, i):\n",
    "  random_image = array[i]\n",
    "  print(\"min and max value in image: \", random_image.min(), random_image.max())\n",
    "\n",
    "\n",
    "def predict_image(model, x):\n",
    "    x = x.astype('float32')\n",
    "    x = x / 255.0\n",
    "\n",
    "    x = np.expand_dims(x, axis=0)\n",
    "\n",
    "    image_predict = model.predict(x, verbose=0)\n",
    "    return (np.argmax(image_predict),image_predict)\n",
    "\n",
    "    \n",
    "def plot_image(array, i, labels):\n",
    "  plt.imshow(np.squeeze(array[i]))\n",
    "  plt.title(\" Digit \" + str(labels[i]))\n",
    "  plt.xticks([])\n",
    "  plt.yticks([])\n",
    "  plt.show()\n",
    "\n",
    "\n",
    "img_rows, img_cols = 28, 28  \n",
    "\n",
    "num_classes = 10 \n",
    "\n",
    "(train_images, train_labels), (test_images, test_labels) = mnist.load_data() \n",
    "(train_images_backup, train_labels_backup), (test_images_backup, test_labels_backup) = mnist.load_data() \n",
    "\n",
    "train_images = train_images.reshape(train_images.shape[0], img_rows, img_cols, 1)\n",
    "test_images = test_images.reshape(test_images.shape[0], img_rows, img_cols, 1)\n",
    "input_shape = (img_rows, img_cols, 1)\n",
    "\n",
    "train_images = train_images.astype('float32')\n",
    "test_images = test_images.astype('float32')\n",
    "\n",
    "train_images /= 255\n",
    "test_images /= 255\n",
    "\n",
    "train_labels = keras.utils.to_categorical(train_labels, num_classes)\n",
    "test_labels = keras.utils.to_categorical(test_labels, num_classes)"
   ]
  },
  {
   "cell_type": "code",
   "execution_count": 2,
   "id": "f587eaea",
   "metadata": {
    "scrolled": true
   },
   "outputs": [],
   "source": [
    "from tensorflow.keras.models import Sequential \n",
    "from tensorflow.keras.layers import Dense, Flatten, Conv2D, MaxPooling2D, Dropout\n",
    "\n",
    "# Set your variables here: \n",
    "epochs = 7\n",
    "model = Sequential()"
   ]
  },
  {
   "cell_type": "code",
   "execution_count": 3,
   "id": "6631df55",
   "metadata": {
    "scrolled": true
   },
   "outputs": [
    {
     "name": "stdout",
     "output_type": "stream",
     "text": [
      "Epoch 1/7\n",
      "938/938 [==============================] - 6s 6ms/step - loss: 0.2006 - accuracy: 0.9384 - val_loss: 0.0604 - val_accuracy: 0.9797\n",
      "Epoch 2/7\n",
      "938/938 [==============================] - 6s 7ms/step - loss: 0.0604 - accuracy: 0.9816 - val_loss: 0.0471 - val_accuracy: 0.9847\n",
      "Epoch 3/7\n",
      "938/938 [==============================] - 6s 6ms/step - loss: 0.0443 - accuracy: 0.9867 - val_loss: 0.0393 - val_accuracy: 0.9885\n",
      "Epoch 4/7\n",
      "938/938 [==============================] - 6s 6ms/step - loss: 0.0354 - accuracy: 0.9893 - val_loss: 0.0308 - val_accuracy: 0.9902\n",
      "Epoch 5/7\n",
      "938/938 [==============================] - 6s 7ms/step - loss: 0.0293 - accuracy: 0.9913 - val_loss: 0.0323 - val_accuracy: 0.9898\n",
      "Epoch 6/7\n",
      "938/938 [==============================] - 7s 7ms/step - loss: 0.0244 - accuracy: 0.9927 - val_loss: 0.0287 - val_accuracy: 0.9909\n",
      "Epoch 7/7\n",
      "938/938 [==============================] - 6s 6ms/step - loss: 0.0207 - accuracy: 0.9934 - val_loss: 0.0325 - val_accuracy: 0.9904\n",
      "313/313 - 0s - loss: 0.0325 - accuracy: 0.9904 - 425ms/epoch - 1ms/step\n",
      "0.9904000163078308\n"
     ]
    }
   ],
   "source": [
    "model.add(Conv2D(filters=32 , kernel_size=(3,3) ,activation='relu',input_shape= input_shape))\n",
    "model.add(MaxPooling2D(pool_size= (2,2)))\n",
    "model.add(Dropout(rate=0.3))\n",
    "model.add(Conv2D(filters=32, kernel_size= (3,3), activation='relu'))\n",
    "model.add( Flatten(input_shape=input_shape)) \n",
    "model.add(Dense(units=32,activation='relu'))\n",
    "model.add(Dense(units=10, activation='softmax'))\n",
    "model.compile(loss='categorical_crossentropy', optimizer='rmsprop',  metrics=['accuracy'])\n",
    "model.fit(train_images, train_labels, batch_size=64, epochs=epochs, validation_data=(test_images, test_labels), shuffle=True)\n",
    "test_loss, test_acc = model.evaluate(test_images, test_labels, verbose=2)\n",
    "scores = model.evaluate(test_images, test_labels, verbose=0)\n",
    "# Add a print statement for the test accuracy\n",
    "print(test_acc)"
   ]
  },
  {
   "cell_type": "code",
   "execution_count": 6,
   "id": "66c36bd8",
   "metadata": {},
   "outputs": [],
   "source": [
    "model.save('final_project_model.keras')"
   ]
  },
  {
   "cell_type": "code",
   "execution_count": 16,
   "id": "87ede0a9",
   "metadata": {
    "scrolled": true
   },
   "outputs": [
    {
     "name": "stdout",
     "output_type": "stream",
     "text": [
      "The number is: 54\n"
     ]
    },
    {
     "data": {
      "image/png": "[encoded data removed]",
      "text/plain": [
       "<Figure size 640x480 with 1 Axes>"
      ]
     },
     "metadata": {},
     "output_type": "display_data"
    }
   ],
   "source": [
    "path = \"test3.jpg\"\n",
    "img = Image.open(path)\n",
    "plt.imshow(np.squeeze(img))\n",
    "# asarray() class is used to convert\n",
    "# PIL images into NumPy arrays\n",
    "numpydata=np.mean(np.array(img), axis=2)*4\n",
    "numpydata=np.reshape(numpydata,(28,numpydata.shape[1],1))\n",
    "numpydatalist=[]\n",
    "num = numpydata.shape[1]/28\n",
    "for i in range(int(num)):\n",
    "    thing = []\n",
    "    for j in range(28):\n",
    "        thing+=[numpydata[j][0+28*i:28*(i+1)]]\n",
    "    numpydatalist+=[thing]\n",
    "num = ''\n",
    "for i in range(len(numpydatalist)):\n",
    "    numpydatalist[i] = np.asarray(numpydatalist[i])\n",
    "    arr = predict_image(model, numpydatalist[i])\n",
    "    num+=str(int(arr[0]))\n",
    "print(\"The number is:\",num)"
   ]
  },
  {
   "cell_type": "code",
   "execution_count": null,
   "id": "34aa984a",
   "metadata": {},
   "outputs": [],
   "source": []
  }
 ],
 "metadata": {
  "kernelspec": {
   "display_name": "Python 3 (ipykernel)",
   "language": "python",
   "name": "python3"
  },
  "language_info": {
   "codemirror_mode": {
    "name": "ipython",
    "version": 3
   },
   "file_extension": ".py",
   "mimetype": "text/x-python",
   "name": "python",
   "nbconvert_exporter": "python",
   "pygments_lexer": "ipython3",
   "version": "3.9.6"
  }
 },
 "nbformat": 4,
 "nbformat_minor": 5
}
