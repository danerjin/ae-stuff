{
 "cells": [
  {
   "cell_type": "code",
   "execution_count": 1,
   "id": "31d096ba",
   "metadata": {},
   "outputs": [],
   "source": [
    "import tensorflow as tf\n",
    "from tensorflow import keras\n",
    "from tensorflow.keras.datasets import mnist\n",
    "from tensorflow.keras import backend as K\n",
    "import numpy as np\n",
    "import matplotlib.pyplot as plt\n",
    "from PIL import Image\n",
    "%matplotlib inline\n",
    "\n",
    "# helper functions\n",
    "def show_min_max(array, i):\n",
    "  random_image = array[i]\n",
    "  print(\"min and max value in image: \", random_image.min(), random_image.max())\n",
    "\n",
    "\n",
    "def predict_image(model, x):\n",
    "    x = x.astype('float32')\n",
    "    x = x / 255.0\n",
    "\n",
    "    x = np.expand_dims(x, axis=0)\n",
    "\n",
    "    image_predict = model.predict(x, verbose=0)\n",
    "    return (np.argmax(image_predict),image_predict)\n",
    "\n",
    "    \n",
    "def plot_image(array, i, labels):\n",
    "  plt.imshow(np.squeeze(array[i]))\n",
    "  plt.title(\" Digit \" + str(labels[i]))\n",
    "  plt.xticks([])\n",
    "  plt.yticks([])\n",
    "  plt.show()\n",
    "\n",
    "\n",
    "img_rows, img_cols = 28, 28  \n",
    "\n",
    "num_classes = 10 \n",
    "\n",
    "(train_images, train_labels), (test_images, test_labels) = mnist.load_data() \n",
    "(train_images_backup, train_labels_backup), (test_images_backup, test_labels_backup) = mnist.load_data() \n",
    "\n",
    "train_images = train_images.reshape(train_images.shape[0], img_rows, img_cols, 1)\n",
    "test_images = test_images.reshape(test_images.shape[0], img_rows, img_cols, 1)\n",
    "input_shape = (img_rows, img_cols, 1)\n",
    "\n",
    "train_images = train_images.astype('float32')\n",
    "test_images = test_images.astype('float32')\n",
    "\n",
    "train_images /= 255\n",
    "test_images /= 255\n",
    "\n",
    "train_labels = keras.utils.to_categorical(train_labels, num_classes)\n",
    "test_labels = keras.utils.to_categorical(test_labels, num_classes)"
   ]
  },
  {
   "cell_type": "code",
   "execution_count": 2,
   "id": "f587eaea",
   "metadata": {
    "scrolled": true
   },
   "outputs": [],
   "source": [
    "from tensorflow.keras.models import Sequential \n",
    "from tensorflow.keras.layers import Dense, Flatten, Conv2D, MaxPooling2D, Dropout\n",
    "\n",
    "# Set your variables here: \n",
    "epochs = 30\n",
    "model = Sequential()"
   ]
  },
  {
   "cell_type": "code",
   "execution_count": 3,
   "id": "6631df55",
   "metadata": {
    "scrolled": true
   },
   "outputs": [
    {
     "name": "stdout",
     "output_type": "stream",
     "text": [
      "Epoch 1/30\n",
      "938/938 [==============================] - 23s 24ms/step - loss: 0.2046 - accuracy: 0.9373 - val_loss: 0.0704 - val_accuracy: 0.9770\n",
      "Epoch 2/30\n",
      "938/938 [==============================] - 22s 23ms/step - loss: 0.0612 - accuracy: 0.9812 - val_loss: 0.0437 - val_accuracy: 0.9846\n",
      "Epoch 3/30\n",
      "938/938 [==============================] - 21s 22ms/step - loss: 0.0442 - accuracy: 0.9864 - val_loss: 0.0368 - val_accuracy: 0.9876\n",
      "Epoch 4/30\n",
      "938/938 [==============================] - 22s 24ms/step - loss: 0.0351 - accuracy: 0.9888 - val_loss: 0.0314 - val_accuracy: 0.9896\n",
      "Epoch 5/30\n",
      "938/938 [==============================] - 23s 25ms/step - loss: 0.0290 - accuracy: 0.9910 - val_loss: 0.0293 - val_accuracy: 0.9900\n",
      "Epoch 6/30\n",
      "938/938 [==============================] - 24s 26ms/step - loss: 0.0240 - accuracy: 0.9928 - val_loss: 0.0281 - val_accuracy: 0.9908\n",
      "Epoch 7/30\n",
      "938/938 [==============================] - 24s 26ms/step - loss: 0.0209 - accuracy: 0.9934 - val_loss: 0.0271 - val_accuracy: 0.9921\n",
      "Epoch 8/30\n",
      "938/938 [==============================] - 23s 24ms/step - loss: 0.0182 - accuracy: 0.9941 - val_loss: 0.0322 - val_accuracy: 0.9898\n",
      "Epoch 9/30\n",
      "938/938 [==============================] - 23s 24ms/step - loss: 0.0156 - accuracy: 0.9952 - val_loss: 0.0350 - val_accuracy: 0.9898\n",
      "Epoch 10/30\n",
      "938/938 [==============================] - 18s 19ms/step - loss: 0.0131 - accuracy: 0.9958 - val_loss: 0.0350 - val_accuracy: 0.9907\n",
      "Epoch 11/30\n",
      "938/938 [==============================] - 22s 24ms/step - loss: 0.0128 - accuracy: 0.9958 - val_loss: 0.0314 - val_accuracy: 0.9918\n",
      "Epoch 12/30\n",
      "938/938 [==============================] - 22s 24ms/step - loss: 0.0102 - accuracy: 0.9967 - val_loss: 0.0346 - val_accuracy: 0.9910\n",
      "Epoch 13/30\n",
      "938/938 [==============================] - 22s 24ms/step - loss: 0.0090 - accuracy: 0.9973 - val_loss: 0.0376 - val_accuracy: 0.9901\n",
      "Epoch 14/30\n",
      "938/938 [==============================] - 22s 24ms/step - loss: 0.0089 - accuracy: 0.9972 - val_loss: 0.0387 - val_accuracy: 0.9912\n",
      "Epoch 15/30\n",
      "938/938 [==============================] - 22s 24ms/step - loss: 0.0076 - accuracy: 0.9979 - val_loss: 0.0365 - val_accuracy: 0.9905\n",
      "Epoch 16/30\n",
      "938/938 [==============================] - 22s 24ms/step - loss: 0.0071 - accuracy: 0.9977 - val_loss: 0.0430 - val_accuracy: 0.9908\n",
      "Epoch 17/30\n",
      "938/938 [==============================] - 22s 23ms/step - loss: 0.0068 - accuracy: 0.9981 - val_loss: 0.0388 - val_accuracy: 0.9908\n",
      "Epoch 18/30\n",
      "938/938 [==============================] - 22s 24ms/step - loss: 0.0059 - accuracy: 0.9982 - val_loss: 0.0515 - val_accuracy: 0.9890\n",
      "Epoch 19/30\n",
      "938/938 [==============================] - 22s 23ms/step - loss: 0.0061 - accuracy: 0.9982 - val_loss: 0.0474 - val_accuracy: 0.9902\n",
      "Epoch 20/30\n",
      "938/938 [==============================] - 21s 23ms/step - loss: 0.0057 - accuracy: 0.9984 - val_loss: 0.0505 - val_accuracy: 0.9905\n",
      "Epoch 21/30\n",
      "938/938 [==============================] - 22s 23ms/step - loss: 0.0049 - accuracy: 0.9984 - val_loss: 0.0532 - val_accuracy: 0.9894\n",
      "Epoch 22/30\n",
      "938/938 [==============================] - 18s 19ms/step - loss: 0.0040 - accuracy: 0.9988 - val_loss: 0.0567 - val_accuracy: 0.9910\n",
      "Epoch 23/30\n",
      "938/938 [==============================] - 21s 23ms/step - loss: 0.0043 - accuracy: 0.9987 - val_loss: 0.0487 - val_accuracy: 0.9909\n",
      "Epoch 24/30\n",
      "938/938 [==============================] - 22s 23ms/step - loss: 0.0037 - accuracy: 0.9988 - val_loss: 0.0633 - val_accuracy: 0.9899\n",
      "Epoch 25/30\n",
      "938/938 [==============================] - 21s 23ms/step - loss: 0.0050 - accuracy: 0.9984 - val_loss: 0.0572 - val_accuracy: 0.9901\n",
      "Epoch 26/30\n",
      "938/938 [==============================] - 22s 23ms/step - loss: 0.0041 - accuracy: 0.9987 - val_loss: 0.0578 - val_accuracy: 0.9905\n",
      "Epoch 27/30\n",
      "938/938 [==============================] - 21s 23ms/step - loss: 0.0046 - accuracy: 0.9986 - val_loss: 0.0607 - val_accuracy: 0.9900\n",
      "Epoch 28/30\n",
      "938/938 [==============================] - 21s 23ms/step - loss: 0.0039 - accuracy: 0.9990 - val_loss: 0.0788 - val_accuracy: 0.9884\n",
      "Epoch 29/30\n",
      "938/938 [==============================] - 21s 22ms/step - loss: 0.0036 - accuracy: 0.9989 - val_loss: 0.0660 - val_accuracy: 0.9903\n",
      "Epoch 30/30\n",
      "938/938 [==============================] - 22s 23ms/step - loss: 0.0037 - accuracy: 0.9990 - val_loss: 0.0664 - val_accuracy: 0.9903\n",
      "313/313 - 1s - loss: 0.0664 - accuracy: 0.9903 - 1s/epoch - 5ms/step\n",
      "0.9902999997138977\n"
     ]
    }
   ],
   "source": [
    "model.add(Conv2D(filters=32 , kernel_size=(3,3) ,activation='relu',input_shape= input_shape))\n",
    "model.add(MaxPooling2D(pool_size= (2,2)))\n",
    "model.add(Dropout(rate=0.3))\n",
    "model.add(Conv2D(filters=32, kernel_size= (3,3), activation='relu'))\n",
    "model.add( Flatten(input_shape=input_shape)) \n",
    "model.add(Dense(units=32,activation='relu'))\n",
    "model.add(Dense(units=10, activation='softmax'))\n",
    "model.compile(loss='categorical_crossentropy', optimizer='rmsprop',  metrics=['accuracy'])\n",
    "model.fit(train_images, train_labels, batch_size=64, epochs=epochs, validation_data=(test_images, test_labels), shuffle=True)\n",
    "test_loss, test_acc = model.evaluate(test_images, test_labels, verbose=2)\n",
    "scores = model.evaluate(test_images, test_labels, verbose=0)\n",
    "# Add a print statement for the test accuracy\n",
    "print(test_acc)"
   ]
  },
  {
   "cell_type": "code",
   "execution_count": 4,
   "id": "66c36bd8",
   "metadata": {},
   "outputs": [],
   "source": [
    "model.save('final_project_model.h5')"
   ]
  },
  {
   "cell_type": "code",
   "execution_count": 7,
   "id": "87ede0a9",
   "metadata": {},
   "outputs": [
    {
     "name": "stdout",
     "output_type": "stream",
     "text": [
      "The number is: 93999\n"
     ]
    }
   ],
   "source": [
    "path = \"test6.jpg\"\n",
    "img = Image.open(path)\n",
    "\n",
    "# asarray() class is used to convert\n",
    "# PIL images into NumPy arrays\n",
    "numpydata=np.mean(np.array(img), axis=2)*4\n",
    "numpydata=np.reshape(numpydata,(28,numpydata.shape[1],1))\n",
    "numpydatalist=[]\n",
    "num = numpydata.shape[1]/28\n",
    "for i in range(int(num)):\n",
    "    thing = []\n",
    "    for j in range(28):\n",
    "        thing+=[numpydata[j][0+28*i:28*(i+1)]]\n",
    "    numpydatalist+=[thing]\n",
    "num = ''\n",
    "for i in range(len(numpydatalist)):\n",
    "    numpydatalist[i] = np.asarray(numpydatalist[i])\n",
    "    arr = predict_image(model, numpydatalist[i])\n",
    "    num+=str(int(arr[0]))\n",
    "print(\"The number is:\",num)"
   ]
  },
  {
   "cell_type": "code",
   "execution_count": null,
   "id": "34aa984a",
   "metadata": {},
   "outputs": [],
   "source": []
  }
 ],
 "metadata": {
  "kernelspec": {
   "display_name": "Python 3 (ipykernel)",
   "language": "python",
   "name": "python3"
  },
  "language_info": {
   "codemirror_mode": {
    "name": "ipython",
    "version": 3
   },
   "file_extension": ".py",
   "mimetype": "text/x-python",
   "name": "python",
   "nbconvert_exporter": "python",
   "pygments_lexer": "ipython3",
   "version": "3.10.0"
  }
 },
 "nbformat": 4,
 "nbformat_minor": 5
}
