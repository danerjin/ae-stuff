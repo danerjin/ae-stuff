{
 "cells": [
  {
   "cell_type": "code",
   "execution_count": 1,
   "metadata": {
    "id": "-NVtgvEcr4w8"
   },
   "outputs": [
    {
     "name": "stdout",
     "output_type": "stream",
     "text": [
      "[0,1]\n"
     ]
    }
   ],
   "source": [
    "# Add code here\n",
    "nums = [2,7,11,15]\n",
    "target = 9\n",
    "for i in range(len(nums)):\n",
    "    for j in range(len(nums)):\n",
    "        if i >= j:\n",
    "            continue\n",
    "        if nums[i]+nums[j] == target:\n",
    "            print(f\"[{i},{j}]\")\n",
    "            break"
   ]
  },
  {
   "cell_type": "code",
   "execution_count": 3,
   "metadata": {},
   "outputs": [
    {
     "name": "stdout",
     "output_type": "stream",
     "text": [
      "1000\n",
      "False\n"
     ]
    }
   ],
   "source": [
    "x = list(input())\n",
    "print(x==x[::-1])"
   ]
  },
  {
   "cell_type": "code",
   "execution_count": null,
   "metadata": {},
   "outputs": [],
   "source": []
  }
 ],
 "metadata": {
  "colab": {
   "authorship_tag": "ABX9TyNNykO/dQtRMDNUbcjK/w4n",
   "collapsed_sections": [],
   "name": "magic_8_balll.ipynb",
   "provenance": []
  },
  "kernelspec": {
   "display_name": "Python 3 (ipykernel)",
   "language": "python",
   "name": "python3"
  },
  "language_info": {
   "codemirror_mode": {
    "name": "ipython",
    "version": 3
   },
   "file_extension": ".py",
   "mimetype": "text/x-python",
   "name": "python",
   "nbconvert_exporter": "python",
   "pygments_lexer": "ipython3",
   "version": "3.10.0"
  }
 },
 "nbformat": 4,
 "nbformat_minor": 1
}
